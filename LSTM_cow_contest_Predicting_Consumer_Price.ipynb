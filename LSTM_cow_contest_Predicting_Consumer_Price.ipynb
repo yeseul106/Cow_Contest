{
  "nbformat": 4,
  "nbformat_minor": 0,
  "metadata": {
    "colab": {
      "name": "LSTM_cow_contest_Predicting Consumer Price.ipynb",
      "provenance": [],
      "authorship_tag": "ABX9TyMzNtcA+UgH3d+LvpFiYeoE",
      "include_colab_link": true
    },
    "kernelspec": {
      "name": "python3",
      "display_name": "Python 3"
    },
    "language_info": {
      "name": "python"
    }
  },
  "cells": [
    {
      "cell_type": "markdown",
      "metadata": {
        "id": "view-in-github",
        "colab_type": "text"
      },
      "source": [
        "<a href=\"https://colab.research.google.com/github/yeseul106/Cow_Contest/blob/main/LSTM_cow_contest_Predicting_Consumer_Price.ipynb\" target=\"_parent\"><img src=\"https://colab.research.google.com/assets/colab-badge.svg\" alt=\"Open In Colab\"/></a>"
      ]
    },
    {
      "cell_type": "code",
      "metadata": {
        "colab": {
          "base_uri": "https://localhost:8080/"
        },
        "id": "0t54t8JFrqgH",
        "outputId": "a5691ff1-2f9b-4e50-e000-8cf60cb0d0c0"
      },
      "source": [
        "from google.colab import drive\n",
        "drive.mount('/content/drive')"
      ],
      "execution_count": 7,
      "outputs": [
        {
          "output_type": "stream",
          "name": "stdout",
          "text": [
            "Drive already mounted at /content/drive; to attempt to forcibly remount, call drive.mount(\"/content/drive\", force_remount=True).\n"
          ]
        }
      ]
    },
    {
      "cell_type": "markdown",
      "metadata": {
        "id": "O9T0p3-eEDpm"
      },
      "source": [
        "#**소비자 가격 예측하기**\n",
        "\n",
        "30일 간 데이터를 이용하여 향후 한달 가격 예측 <br>\n",
        "\n",
        "input shape : 12 X 30 <br>\n",
        "\n",
        "output shape : 1 X 30\n",
        "\n",
        "\n",
        "\n",
        "\n"
      ]
    },
    {
      "cell_type": "code",
      "metadata": {
        "colab": {
          "base_uri": "https://localhost:8080/",
          "height": 237
        },
        "id": "7aDoyVt0_RXe",
        "outputId": "5056703a-f15e-4cb0-d952-44a5dcda7483"
      },
      "source": [
        "import pandas as pd\n",
        "import numpy as np\n",
        "from sklearn.model_selection import train_test_split\n",
        "\n",
        "'''''''''''''''read csv file'''''''''''''''\n",
        "trainData = pd.read_csv('/content/drive/MyDrive/cow_contest/preprocessed_unNormalized_2015_2019.csv', encoding='cp949')\n",
        "testData =  pd.read_csv('/content/drive/MyDrive/cow_contest/preprocessed_unNormalized_2020.csv', encoding='cp949')\n",
        "print(\"2015_2019 데이터 shape :\",trainData.shape)\n",
        "print(\"2020 데이터 shape :\",testData.shape)\n",
        "trainData.head(5)  # 정규화까지 processing한 상태"
      ],
      "execution_count": 8,
      "outputs": [
        {
          "output_type": "stream",
          "name": "stdout",
          "text": [
            "2015_2019 데이터 shape : (1235, 16)\n",
            "2020 데이터 shape : (251, 16)\n"
          ]
        },
        {
          "output_type": "execute_result",
          "data": {
            "text/html": [
              "<div>\n",
              "<style scoped>\n",
              "    .dataframe tbody tr th:only-of-type {\n",
              "        vertical-align: middle;\n",
              "    }\n",
              "\n",
              "    .dataframe tbody tr th {\n",
              "        vertical-align: top;\n",
              "    }\n",
              "\n",
              "    .dataframe thead th {\n",
              "        text-align: right;\n",
              "    }\n",
              "</style>\n",
              "<table border=\"1\" class=\"dataframe\">\n",
              "  <thead>\n",
              "    <tr style=\"text-align: right;\">\n",
              "      <th></th>\n",
              "      <th>날짜</th>\n",
              "      <th>가임암소 수</th>\n",
              "      <th>도축 수</th>\n",
              "      <th>암송아지가격</th>\n",
              "      <th>숫송아지가격</th>\n",
              "      <th>소비자 심리지수</th>\n",
              "      <th>물가 총지수</th>\n",
              "      <th>물가 농축수산물지수</th>\n",
              "      <th>도체 중량</th>\n",
              "      <th>생산량</th>\n",
              "      <th>출생두수</th>\n",
              "      <th>사육비</th>\n",
              "      <th>도매 가격</th>\n",
              "      <th>소비자 가격</th>\n",
              "      <th>당해 도매 가격</th>\n",
              "      <th>당해 소비자 가격</th>\n",
              "    </tr>\n",
              "  </thead>\n",
              "  <tbody>\n",
              "    <tr>\n",
              "      <th>0</th>\n",
              "      <td>20150102</td>\n",
              "      <td>571347</td>\n",
              "      <td>96045</td>\n",
              "      <td>839.000000</td>\n",
              "      <td>1370.0</td>\n",
              "      <td>102.0</td>\n",
              "      <td>99.77</td>\n",
              "      <td>99.74</td>\n",
              "      <td>413.051366</td>\n",
              "      <td>267</td>\n",
              "      <td>50325</td>\n",
              "      <td>6867510</td>\n",
              "      <td>17343</td>\n",
              "      <td>78497</td>\n",
              "      <td>14255</td>\n",
              "      <td>64390</td>\n",
              "    </tr>\n",
              "    <tr>\n",
              "      <th>1</th>\n",
              "      <td>20150105</td>\n",
              "      <td>571347</td>\n",
              "      <td>96045</td>\n",
              "      <td>839.333333</td>\n",
              "      <td>1430.0</td>\n",
              "      <td>102.0</td>\n",
              "      <td>99.77</td>\n",
              "      <td>99.74</td>\n",
              "      <td>413.051366</td>\n",
              "      <td>267</td>\n",
              "      <td>50325</td>\n",
              "      <td>6867510</td>\n",
              "      <td>18445</td>\n",
              "      <td>78548</td>\n",
              "      <td>14158</td>\n",
              "      <td>65654</td>\n",
              "    </tr>\n",
              "    <tr>\n",
              "      <th>2</th>\n",
              "      <td>20150106</td>\n",
              "      <td>571347</td>\n",
              "      <td>96045</td>\n",
              "      <td>839.666667</td>\n",
              "      <td>1490.0</td>\n",
              "      <td>102.0</td>\n",
              "      <td>99.77</td>\n",
              "      <td>99.74</td>\n",
              "      <td>413.051366</td>\n",
              "      <td>267</td>\n",
              "      <td>50325</td>\n",
              "      <td>6867510</td>\n",
              "      <td>18813</td>\n",
              "      <td>78738</td>\n",
              "      <td>14758</td>\n",
              "      <td>65397</td>\n",
              "    </tr>\n",
              "    <tr>\n",
              "      <th>3</th>\n",
              "      <td>20150107</td>\n",
              "      <td>571347</td>\n",
              "      <td>96045</td>\n",
              "      <td>840.000000</td>\n",
              "      <td>1550.0</td>\n",
              "      <td>102.0</td>\n",
              "      <td>99.77</td>\n",
              "      <td>99.74</td>\n",
              "      <td>413.051366</td>\n",
              "      <td>267</td>\n",
              "      <td>50325</td>\n",
              "      <td>6867510</td>\n",
              "      <td>18905</td>\n",
              "      <td>76974</td>\n",
              "      <td>14838</td>\n",
              "      <td>65539</td>\n",
              "    </tr>\n",
              "    <tr>\n",
              "      <th>4</th>\n",
              "      <td>20150108</td>\n",
              "      <td>571347</td>\n",
              "      <td>96045</td>\n",
              "      <td>852.000000</td>\n",
              "      <td>1555.0</td>\n",
              "      <td>102.0</td>\n",
              "      <td>99.77</td>\n",
              "      <td>99.74</td>\n",
              "      <td>413.051366</td>\n",
              "      <td>267</td>\n",
              "      <td>50325</td>\n",
              "      <td>6867510</td>\n",
              "      <td>18950</td>\n",
              "      <td>76924</td>\n",
              "      <td>14859</td>\n",
              "      <td>62858</td>\n",
              "    </tr>\n",
              "  </tbody>\n",
              "</table>\n",
              "</div>"
            ],
            "text/plain": [
              "         날짜  가임암소 수   도축 수      암송아지가격  ...  도매 가격  소비자 가격  당해 도매 가격  당해 소비자 가격\n",
              "0  20150102  571347  96045  839.000000  ...  17343   78497     14255      64390\n",
              "1  20150105  571347  96045  839.333333  ...  18445   78548     14158      65654\n",
              "2  20150106  571347  96045  839.666667  ...  18813   78738     14758      65397\n",
              "3  20150107  571347  96045  840.000000  ...  18905   76974     14838      65539\n",
              "4  20150108  571347  96045  852.000000  ...  18950   76924     14859      62858\n",
              "\n",
              "[5 rows x 16 columns]"
            ]
          },
          "metadata": {},
          "execution_count": 8
        }
      ]
    },
    {
      "cell_type": "code",
      "metadata": {
        "id": "1DOSReikACxL"
      },
      "source": [
        "'''''''''''''''seperate x and y data'''''''''''''''\n",
        "# 일단 지금은 한달 가격 예측이므로 1년 뒤 도매 가격 제거\n",
        "trainData = trainData.drop(columns=['소비자 가격'])"
      ],
      "execution_count": 9,
      "outputs": []
    },
    {
      "cell_type": "code",
      "metadata": {
        "colab": {
          "base_uri": "https://localhost:8080/",
          "height": 202
        },
        "id": "NryVlk02HWn_",
        "outputId": "f064d0f2-c10d-4667-a52e-14fae2e3c97e"
      },
      "source": [
        "trainData.head(5)"
      ],
      "execution_count": 10,
      "outputs": [
        {
          "output_type": "execute_result",
          "data": {
            "text/html": [
              "<div>\n",
              "<style scoped>\n",
              "    .dataframe tbody tr th:only-of-type {\n",
              "        vertical-align: middle;\n",
              "    }\n",
              "\n",
              "    .dataframe tbody tr th {\n",
              "        vertical-align: top;\n",
              "    }\n",
              "\n",
              "    .dataframe thead th {\n",
              "        text-align: right;\n",
              "    }\n",
              "</style>\n",
              "<table border=\"1\" class=\"dataframe\">\n",
              "  <thead>\n",
              "    <tr style=\"text-align: right;\">\n",
              "      <th></th>\n",
              "      <th>날짜</th>\n",
              "      <th>가임암소 수</th>\n",
              "      <th>도축 수</th>\n",
              "      <th>암송아지가격</th>\n",
              "      <th>숫송아지가격</th>\n",
              "      <th>소비자 심리지수</th>\n",
              "      <th>물가 총지수</th>\n",
              "      <th>물가 농축수산물지수</th>\n",
              "      <th>도체 중량</th>\n",
              "      <th>생산량</th>\n",
              "      <th>출생두수</th>\n",
              "      <th>사육비</th>\n",
              "      <th>도매 가격</th>\n",
              "      <th>당해 도매 가격</th>\n",
              "      <th>당해 소비자 가격</th>\n",
              "    </tr>\n",
              "  </thead>\n",
              "  <tbody>\n",
              "    <tr>\n",
              "      <th>0</th>\n",
              "      <td>20150102</td>\n",
              "      <td>571347</td>\n",
              "      <td>96045</td>\n",
              "      <td>839.000000</td>\n",
              "      <td>1370.0</td>\n",
              "      <td>102.0</td>\n",
              "      <td>99.77</td>\n",
              "      <td>99.74</td>\n",
              "      <td>413.051366</td>\n",
              "      <td>267</td>\n",
              "      <td>50325</td>\n",
              "      <td>6867510</td>\n",
              "      <td>17343</td>\n",
              "      <td>14255</td>\n",
              "      <td>64390</td>\n",
              "    </tr>\n",
              "    <tr>\n",
              "      <th>1</th>\n",
              "      <td>20150105</td>\n",
              "      <td>571347</td>\n",
              "      <td>96045</td>\n",
              "      <td>839.333333</td>\n",
              "      <td>1430.0</td>\n",
              "      <td>102.0</td>\n",
              "      <td>99.77</td>\n",
              "      <td>99.74</td>\n",
              "      <td>413.051366</td>\n",
              "      <td>267</td>\n",
              "      <td>50325</td>\n",
              "      <td>6867510</td>\n",
              "      <td>18445</td>\n",
              "      <td>14158</td>\n",
              "      <td>65654</td>\n",
              "    </tr>\n",
              "    <tr>\n",
              "      <th>2</th>\n",
              "      <td>20150106</td>\n",
              "      <td>571347</td>\n",
              "      <td>96045</td>\n",
              "      <td>839.666667</td>\n",
              "      <td>1490.0</td>\n",
              "      <td>102.0</td>\n",
              "      <td>99.77</td>\n",
              "      <td>99.74</td>\n",
              "      <td>413.051366</td>\n",
              "      <td>267</td>\n",
              "      <td>50325</td>\n",
              "      <td>6867510</td>\n",
              "      <td>18813</td>\n",
              "      <td>14758</td>\n",
              "      <td>65397</td>\n",
              "    </tr>\n",
              "    <tr>\n",
              "      <th>3</th>\n",
              "      <td>20150107</td>\n",
              "      <td>571347</td>\n",
              "      <td>96045</td>\n",
              "      <td>840.000000</td>\n",
              "      <td>1550.0</td>\n",
              "      <td>102.0</td>\n",
              "      <td>99.77</td>\n",
              "      <td>99.74</td>\n",
              "      <td>413.051366</td>\n",
              "      <td>267</td>\n",
              "      <td>50325</td>\n",
              "      <td>6867510</td>\n",
              "      <td>18905</td>\n",
              "      <td>14838</td>\n",
              "      <td>65539</td>\n",
              "    </tr>\n",
              "    <tr>\n",
              "      <th>4</th>\n",
              "      <td>20150108</td>\n",
              "      <td>571347</td>\n",
              "      <td>96045</td>\n",
              "      <td>852.000000</td>\n",
              "      <td>1555.0</td>\n",
              "      <td>102.0</td>\n",
              "      <td>99.77</td>\n",
              "      <td>99.74</td>\n",
              "      <td>413.051366</td>\n",
              "      <td>267</td>\n",
              "      <td>50325</td>\n",
              "      <td>6867510</td>\n",
              "      <td>18950</td>\n",
              "      <td>14859</td>\n",
              "      <td>62858</td>\n",
              "    </tr>\n",
              "  </tbody>\n",
              "</table>\n",
              "</div>"
            ],
            "text/plain": [
              "         날짜  가임암소 수   도축 수      암송아지가격  ...      사육비  도매 가격  당해 도매 가격  당해 소비자 가격\n",
              "0  20150102  571347  96045  839.000000  ...  6867510  17343     14255      64390\n",
              "1  20150105  571347  96045  839.333333  ...  6867510  18445     14158      65654\n",
              "2  20150106  571347  96045  839.666667  ...  6867510  18813     14758      65397\n",
              "3  20150107  571347  96045  840.000000  ...  6867510  18905     14838      65539\n",
              "4  20150108  571347  96045  852.000000  ...  6867510  18950     14859      62858\n",
              "\n",
              "[5 rows x 15 columns]"
            ]
          },
          "metadata": {},
          "execution_count": 10
        }
      ]
    },
    {
      "cell_type": "code",
      "metadata": {
        "colab": {
          "base_uri": "https://localhost:8080/",
          "height": 202
        },
        "id": "sJHnXeNuHZqF",
        "outputId": "d68eed5c-3edb-446d-cd83-8e6b74062ef9"
      },
      "source": [
        "# 도매 가격만 먼저 예측해보기 위함이므로 소비자 가격, 당해 소비자 가격 제거\n",
        "trainData = trainData.drop(columns=['도매 가격', '당해 도매 가격','날짜'])\n",
        "trainData.head(5)"
      ],
      "execution_count": 11,
      "outputs": [
        {
          "output_type": "execute_result",
          "data": {
            "text/html": [
              "<div>\n",
              "<style scoped>\n",
              "    .dataframe tbody tr th:only-of-type {\n",
              "        vertical-align: middle;\n",
              "    }\n",
              "\n",
              "    .dataframe tbody tr th {\n",
              "        vertical-align: top;\n",
              "    }\n",
              "\n",
              "    .dataframe thead th {\n",
              "        text-align: right;\n",
              "    }\n",
              "</style>\n",
              "<table border=\"1\" class=\"dataframe\">\n",
              "  <thead>\n",
              "    <tr style=\"text-align: right;\">\n",
              "      <th></th>\n",
              "      <th>가임암소 수</th>\n",
              "      <th>도축 수</th>\n",
              "      <th>암송아지가격</th>\n",
              "      <th>숫송아지가격</th>\n",
              "      <th>소비자 심리지수</th>\n",
              "      <th>물가 총지수</th>\n",
              "      <th>물가 농축수산물지수</th>\n",
              "      <th>도체 중량</th>\n",
              "      <th>생산량</th>\n",
              "      <th>출생두수</th>\n",
              "      <th>사육비</th>\n",
              "      <th>당해 소비자 가격</th>\n",
              "    </tr>\n",
              "  </thead>\n",
              "  <tbody>\n",
              "    <tr>\n",
              "      <th>0</th>\n",
              "      <td>571347</td>\n",
              "      <td>96045</td>\n",
              "      <td>839.000000</td>\n",
              "      <td>1370.0</td>\n",
              "      <td>102.0</td>\n",
              "      <td>99.77</td>\n",
              "      <td>99.74</td>\n",
              "      <td>413.051366</td>\n",
              "      <td>267</td>\n",
              "      <td>50325</td>\n",
              "      <td>6867510</td>\n",
              "      <td>64390</td>\n",
              "    </tr>\n",
              "    <tr>\n",
              "      <th>1</th>\n",
              "      <td>571347</td>\n",
              "      <td>96045</td>\n",
              "      <td>839.333333</td>\n",
              "      <td>1430.0</td>\n",
              "      <td>102.0</td>\n",
              "      <td>99.77</td>\n",
              "      <td>99.74</td>\n",
              "      <td>413.051366</td>\n",
              "      <td>267</td>\n",
              "      <td>50325</td>\n",
              "      <td>6867510</td>\n",
              "      <td>65654</td>\n",
              "    </tr>\n",
              "    <tr>\n",
              "      <th>2</th>\n",
              "      <td>571347</td>\n",
              "      <td>96045</td>\n",
              "      <td>839.666667</td>\n",
              "      <td>1490.0</td>\n",
              "      <td>102.0</td>\n",
              "      <td>99.77</td>\n",
              "      <td>99.74</td>\n",
              "      <td>413.051366</td>\n",
              "      <td>267</td>\n",
              "      <td>50325</td>\n",
              "      <td>6867510</td>\n",
              "      <td>65397</td>\n",
              "    </tr>\n",
              "    <tr>\n",
              "      <th>3</th>\n",
              "      <td>571347</td>\n",
              "      <td>96045</td>\n",
              "      <td>840.000000</td>\n",
              "      <td>1550.0</td>\n",
              "      <td>102.0</td>\n",
              "      <td>99.77</td>\n",
              "      <td>99.74</td>\n",
              "      <td>413.051366</td>\n",
              "      <td>267</td>\n",
              "      <td>50325</td>\n",
              "      <td>6867510</td>\n",
              "      <td>65539</td>\n",
              "    </tr>\n",
              "    <tr>\n",
              "      <th>4</th>\n",
              "      <td>571347</td>\n",
              "      <td>96045</td>\n",
              "      <td>852.000000</td>\n",
              "      <td>1555.0</td>\n",
              "      <td>102.0</td>\n",
              "      <td>99.77</td>\n",
              "      <td>99.74</td>\n",
              "      <td>413.051366</td>\n",
              "      <td>267</td>\n",
              "      <td>50325</td>\n",
              "      <td>6867510</td>\n",
              "      <td>62858</td>\n",
              "    </tr>\n",
              "  </tbody>\n",
              "</table>\n",
              "</div>"
            ],
            "text/plain": [
              "   가임암소 수   도축 수      암송아지가격  숫송아지가격  ...  생산량   출생두수      사육비  당해 소비자 가격\n",
              "0  571347  96045  839.000000  1370.0  ...  267  50325  6867510      64390\n",
              "1  571347  96045  839.333333  1430.0  ...  267  50325  6867510      65654\n",
              "2  571347  96045  839.666667  1490.0  ...  267  50325  6867510      65397\n",
              "3  571347  96045  840.000000  1550.0  ...  267  50325  6867510      65539\n",
              "4  571347  96045  852.000000  1555.0  ...  267  50325  6867510      62858\n",
              "\n",
              "[5 rows x 12 columns]"
            ]
          },
          "metadata": {},
          "execution_count": 11
        }
      ]
    },
    {
      "cell_type": "code",
      "metadata": {
        "id": "YAD8CHpnLaQw"
      },
      "source": [
        "import pandas as pd\n",
        "from sklearn import preprocessing\n",
        "import numpy as np"
      ],
      "execution_count": 12,
      "outputs": []
    },
    {
      "cell_type": "code",
      "metadata": {
        "colab": {
          "base_uri": "https://localhost:8080/"
        },
        "id": "pIAy-Ny1XDp8",
        "outputId": "281b34b0-6a1e-49ec-9823-1e3c417bf218"
      },
      "source": [
        "# 정규화 0-1로 하기\n",
        "data_normalizer = preprocessing.MinMaxScaler() # 데이터를 0~1 범위로 점철되게 하는 함수 call\n",
        "data_normalized = data_normalizer.fit_transform(trainData) # 데이터를 0~1 범위로 점철되게 함수 수행\n",
        "next_month_price = data_normalized[:,-1]\n",
        "data_normalized.shape"
      ],
      "execution_count": 13,
      "outputs": [
        {
          "output_type": "execute_result",
          "data": {
            "text/plain": [
              "(1235, 12)"
            ]
          },
          "metadata": {},
          "execution_count": 13
        }
      ]
    },
    {
      "cell_type": "code",
      "metadata": {
        "colab": {
          "base_uri": "https://localhost:8080/"
        },
        "id": "TkHGO2zrXKYB",
        "outputId": "c4a09b39-f602-451c-f4e5-7d34a0622fa9"
      },
      "source": [
        "data_normalized[0]"
      ],
      "execution_count": 14,
      "outputs": [
        {
          "output_type": "execute_result",
          "data": {
            "text/plain": [
              "array([0.        , 0.90674595, 0.        , 0.        , 0.46524064,\n",
              "       0.01010101, 0.10323959, 0.56561515, 1.        , 0.10628024,\n",
              "       0.        , 0.09570254])"
            ]
          },
          "metadata": {},
          "execution_count": 14
        }
      ]
    },
    {
      "cell_type": "code",
      "metadata": {
        "colab": {
          "base_uri": "https://localhost:8080/"
        },
        "id": "DM0hFp94d9sj",
        "outputId": "79e9f001-20f0-48fc-c0ef-39ca9b02f6de"
      },
      "source": [
        "print(next_month_price.shape)\n",
        "next_month_price[0]"
      ],
      "execution_count": 15,
      "outputs": [
        {
          "output_type": "stream",
          "name": "stdout",
          "text": [
            "(1235,)\n"
          ]
        },
        {
          "output_type": "execute_result",
          "data": {
            "text/plain": [
              "0.09570253986218846"
            ]
          },
          "metadata": {},
          "execution_count": 15
        }
      ]
    },
    {
      "cell_type": "code",
      "metadata": {
        "colab": {
          "base_uri": "https://localhost:8080/"
        },
        "id": "e3TNGLPrHoWh",
        "outputId": "7e338c96-71ab-40f7-e85c-ef70a4dd339c"
      },
      "source": [
        "# using the last {history_points} open close high low volume data points, predict the next open value\n",
        "history_points = 30  # 30일을 기준으로 바라본다\n",
        "trainData_normalized = np.array([data_normalized[i:i + history_points].copy() for i in range(len(data_normalized) - history_points)]) # trainData를 가지고 오되, 관찰일수 만큼 누적해서 쌓는다. (열방향으로)\n",
        "print('trainData_normalized : ', trainData_normalized.shape)"
      ],
      "execution_count": 16,
      "outputs": [
        {
          "output_type": "stream",
          "name": "stdout",
          "text": [
            "trainData_normalized :  (1205, 30, 12)\n"
          ]
        }
      ]
    },
    {
      "cell_type": "code",
      "metadata": {
        "id": "V3fxI-MHojZG"
      },
      "source": [
        "import pandas as pd\n",
        "from sklearn import preprocessing\n",
        "import numpy as np"
      ],
      "execution_count": 17,
      "outputs": []
    },
    {
      "cell_type": "code",
      "metadata": {
        "colab": {
          "base_uri": "https://localhost:8080/"
        },
        "id": "roxY52tH9g6T",
        "outputId": "502ba583-c839-40a8-ed8c-999fe1e56cf0"
      },
      "source": [
        "next_month_price_normalized = np.array([next_month_price[i:i + history_points].copy() for i in range(len(next_month_price) - history_points)])\n",
        "next_month_price_normalized = np.expand_dims(next_month_price_normalized, -1) # 1XN 벡터 -> NX1 벡터로\n",
        "print('next_month_price_normalized shape: ', next_month_price_normalized.shape)\n",
        "\n",
        "next_month_price_unNormalized = trainData['당해 소비자 가격']\n",
        "print('next_month_price_unNormalized shape: ', next_month_price_unNormalized.shape)\n",
        "\n",
        "y_normalizer = preprocessing.MinMaxScaler()\n",
        "next_month_price_unNormalized_2 = np.expand_dims(next_month_price_unNormalized, -1) # 1XN 벡터 -> NX1 벡터로\n",
        "y_normalizer.fit(next_month_price_unNormalized_2)\n",
        "\n",
        "next_month_price_unNormalized = np.array([next_month_price_unNormalized[i:i + history_points].copy() for i in range(len(next_month_price_unNormalized) - history_points)])\n",
        "next_month_price_unNormalized = np.expand_dims(next_month_price_unNormalized, -1) # 1XN 벡터 -> NX1 벡터로\n",
        "print('next_month_price_unNormalized shape: ', next_month_price_unNormalized.shape)"
      ],
      "execution_count": 18,
      "outputs": [
        {
          "output_type": "stream",
          "name": "stdout",
          "text": [
            "next_month_price_normalized shape:  (1205, 30, 1)\n",
            "next_month_price_unNormalized shape:  (1235,)\n",
            "next_month_price_unNormalized shape:  (1205, 30, 1)\n"
          ]
        }
      ]
    },
    {
      "cell_type": "code",
      "metadata": {
        "colab": {
          "base_uri": "https://localhost:8080/"
        },
        "id": "FveQkNV5G-HX",
        "outputId": "652f5356-d611-4e85-b6c5-6d99f951bf5a"
      },
      "source": [
        "next_month_price_unNormalized[0]"
      ],
      "execution_count": 19,
      "outputs": [
        {
          "output_type": "execute_result",
          "data": {
            "text/plain": [
              "array([[64390],\n",
              "       [65654],\n",
              "       [65397],\n",
              "       [65539],\n",
              "       [62858],\n",
              "       [62858],\n",
              "       [62440],\n",
              "       [62440],\n",
              "       [62235],\n",
              "       [65114],\n",
              "       [64923],\n",
              "       [65555],\n",
              "       [65721],\n",
              "       [65721],\n",
              "       [66428],\n",
              "       [66300],\n",
              "       [66831],\n",
              "       [66754],\n",
              "       [66376],\n",
              "       [66855],\n",
              "       [66725],\n",
              "       [66725],\n",
              "       [67435],\n",
              "       [67610],\n",
              "       [65660],\n",
              "       [65723],\n",
              "       [65331],\n",
              "       [65844],\n",
              "       [65844],\n",
              "       [66495]])"
            ]
          },
          "metadata": {},
          "execution_count": 19
        }
      ]
    },
    {
      "cell_type": "code",
      "metadata": {
        "colab": {
          "base_uri": "https://localhost:8080/"
        },
        "id": "u-_Zo0DvKtMR",
        "outputId": "64066316-de94-46cb-f0a2-c0a7bee88b3e"
      },
      "source": [
        "import tensorflow as tf\n",
        "import keras\n",
        "from keras.models import Model\n",
        "from keras.layers import Dense, Dropout, LSTM, Input, Activation\n",
        "from keras import optimizers\n",
        "import numpy as np\n",
        "np.random.seed(4)\n",
        "# from tensorflow import set_random_seed\n",
        "print(tf.__version__)\n",
        "tf.random.set_seed(44)\n",
        "# from util import csv_to_dataset, history_points\n",
        "\n",
        "# dataset\n",
        "\n",
        "#ohlcv_histories, _, next_day_open_values, unscaled_y, y_normaliser = call_dataset(ticker=ticker)\n",
        "\n",
        "train_ratio = 0.9\n",
        "n = int(trainData_normalized.shape[0] * train_ratio)\n",
        "\n",
        "trainData = trainData_normalized[-n:-1]\n",
        "y_train_real = next_month_price_unNormalized[-n:-1]\n",
        "y_train = next_month_price_normalized[-n:-1]\n",
        "\n",
        "validData = trainData_normalized[:trainData_normalized.shape[0]-n]\n",
        "y_valid_real = next_month_price_unNormalized[:trainData_normalized.shape[0]-n]\n",
        "y_valid = next_month_price_normalized[:trainData_normalized.shape[0]-n]\n",
        "\n",
        "unscaled_y_valid = next_month_price_unNormalized[:trainData_normalized.shape[0]-n]\n",
        "\n",
        "print('trainData.shape: ', trainData.shape)\n",
        "print('validData.shape: ',validData.shape)\n",
        "print('y_train_real.shape: ',y_train_real.shape)\n",
        "print('y_train.shape: ', y_train.shape)\n",
        "print('y_valid.shape: ',y_valid.shape)"
      ],
      "execution_count": 20,
      "outputs": [
        {
          "output_type": "stream",
          "name": "stdout",
          "text": [
            "2.6.0\n",
            "trainData.shape:  (1083, 30, 12)\n",
            "validData.shape:  (121, 30, 12)\n",
            "y_train_real.shape:  (1083, 30, 1)\n",
            "y_train.shape:  (1083, 30, 1)\n",
            "y_valid.shape:  (121, 30, 1)\n"
          ]
        }
      ]
    },
    {
      "cell_type": "code",
      "metadata": {
        "colab": {
          "base_uri": "https://localhost:8080/"
        },
        "id": "AYRQQraiSmH_",
        "outputId": "c0d589ce-effe-4630-ad33-d686dbe07d35"
      },
      "source": [
        "# model architecture\n",
        "lstm_input = Input(shape=(history_points, 12), name='lstm_input')\n",
        "x = LSTM(30, name='lstm_0')(lstm_input)\n",
        "x = Dropout(0.2, name='lstm_dropout_0')(x)\n",
        "# x = Dense(128, name='dense_0')(x)\n",
        "# x = Dropout(0.3, name='lstm_dropout_1')(x)\n",
        "x = Dense(64, name='dense_0')(x)\n",
        "x = Activation('sigmoid', name='sigmoid_0')(x)\n",
        "x = Dense(30, name='dense_1')(x)\n",
        "output = Activation('linear', name='linear_output')(x)\n",
        "\n",
        "model = Model(inputs=lstm_input, outputs=output)\n",
        "model.compile(optimizer=tf.keras.optimizers.Adam(0.0005), loss='mse')\n",
        "model.fit(x=trainData, y=y_train, batch_size=32, epochs=100)\n",
        "# evaluation\n",
        "\n",
        "y_valid_predicted = model.predict(validData)\n",
        "y_valid_predicted = y_normalizer.inverse_transform(y_valid_predicted)\n",
        "y_predicted = model.predict(trainData)\n",
        "y_predicted = y_normalizer.inverse_transform(y_predicted)\n",
        "\n",
        "print('y_valid_predict shape: ', y_valid_predicted.shape)\n",
        "print('y_predicted  shape: ', y_predicted .shape)\n",
        "\n",
        "# unscaled_y_valid = unscaled_y_valid.reshape(*unscaled_y_valid.shape[:-1])\n",
        "# y_valid = y_valid.reshape(*y_valid.shape[:-1])\n",
        "# print('unscaled_y_valid  shape: ', unscaled_y_valid .shape)\n",
        "# print('y_valid  shape: ', y_valid .shape)\n",
        "\n",
        "# 한달 뒤의 가격 예측인데 ... 어떻게 계산해야할까나?....\n",
        "# real_mse = np.mean(np.square(unscaled_y_valid - y_valid_predicted))\n",
        "# scaled_mse = real_mse / (np.max(unscaled_y_valid) - np.min(unscaled_y_valid)) * 100\n",
        "# print(scaled_mse)"
      ],
      "execution_count": 21,
      "outputs": [
        {
          "output_type": "stream",
          "name": "stdout",
          "text": [
            "Epoch 1/100\n",
            "34/34 [==============================] - 2s 13ms/step - loss: 0.4057\n",
            "Epoch 2/100\n",
            "34/34 [==============================] - 0s 11ms/step - loss: 0.0783\n",
            "Epoch 3/100\n",
            "34/34 [==============================] - 0s 11ms/step - loss: 0.0208\n",
            "Epoch 4/100\n",
            "34/34 [==============================] - 0s 12ms/step - loss: 0.0169\n",
            "Epoch 5/100\n",
            "34/34 [==============================] - 0s 11ms/step - loss: 0.0154\n",
            "Epoch 6/100\n",
            "34/34 [==============================] - 0s 11ms/step - loss: 0.0137\n",
            "Epoch 7/100\n",
            "34/34 [==============================] - 0s 11ms/step - loss: 0.0121\n",
            "Epoch 8/100\n",
            "34/34 [==============================] - 0s 10ms/step - loss: 0.0105\n",
            "Epoch 9/100\n",
            "34/34 [==============================] - 0s 12ms/step - loss: 0.0095\n",
            "Epoch 10/100\n",
            "34/34 [==============================] - 0s 11ms/step - loss: 0.0088\n",
            "Epoch 11/100\n",
            "34/34 [==============================] - 0s 10ms/step - loss: 0.0079\n",
            "Epoch 12/100\n",
            "34/34 [==============================] - 0s 11ms/step - loss: 0.0071\n",
            "Epoch 13/100\n",
            "34/34 [==============================] - 0s 11ms/step - loss: 0.0067\n",
            "Epoch 14/100\n",
            "34/34 [==============================] - 0s 10ms/step - loss: 0.0064\n",
            "Epoch 15/100\n",
            "34/34 [==============================] - 0s 11ms/step - loss: 0.0061\n",
            "Epoch 16/100\n",
            "34/34 [==============================] - 0s 11ms/step - loss: 0.0058\n",
            "Epoch 17/100\n",
            "34/34 [==============================] - 0s 11ms/step - loss: 0.0055\n",
            "Epoch 18/100\n",
            "34/34 [==============================] - 0s 10ms/step - loss: 0.0054\n",
            "Epoch 19/100\n",
            "34/34 [==============================] - 0s 11ms/step - loss: 0.0051\n",
            "Epoch 20/100\n",
            "34/34 [==============================] - 0s 11ms/step - loss: 0.0050\n",
            "Epoch 21/100\n",
            "34/34 [==============================] - 0s 11ms/step - loss: 0.0048\n",
            "Epoch 22/100\n",
            "34/34 [==============================] - 0s 10ms/step - loss: 0.0045\n",
            "Epoch 23/100\n",
            "34/34 [==============================] - 0s 12ms/step - loss: 0.0046\n",
            "Epoch 24/100\n",
            "34/34 [==============================] - 0s 11ms/step - loss: 0.0043\n",
            "Epoch 25/100\n",
            "34/34 [==============================] - 0s 11ms/step - loss: 0.0043\n",
            "Epoch 26/100\n",
            "34/34 [==============================] - 0s 10ms/step - loss: 0.0042\n",
            "Epoch 27/100\n",
            "34/34 [==============================] - 0s 10ms/step - loss: 0.0041\n",
            "Epoch 28/100\n",
            "34/34 [==============================] - 0s 11ms/step - loss: 0.0040\n",
            "Epoch 29/100\n",
            "34/34 [==============================] - 0s 11ms/step - loss: 0.0039\n",
            "Epoch 30/100\n",
            "34/34 [==============================] - 0s 10ms/step - loss: 0.0038\n",
            "Epoch 31/100\n",
            "34/34 [==============================] - 0s 12ms/step - loss: 0.0036\n",
            "Epoch 32/100\n",
            "34/34 [==============================] - 0s 11ms/step - loss: 0.0036\n",
            "Epoch 33/100\n",
            "34/34 [==============================] - 0s 11ms/step - loss: 0.0035\n",
            "Epoch 34/100\n",
            "34/34 [==============================] - 0s 12ms/step - loss: 0.0033\n",
            "Epoch 35/100\n",
            "34/34 [==============================] - 0s 10ms/step - loss: 0.0032\n",
            "Epoch 36/100\n",
            "34/34 [==============================] - 0s 11ms/step - loss: 0.0031\n",
            "Epoch 37/100\n",
            "34/34 [==============================] - 0s 11ms/step - loss: 0.0032\n",
            "Epoch 38/100\n",
            "34/34 [==============================] - 0s 10ms/step - loss: 0.0030\n",
            "Epoch 39/100\n",
            "34/34 [==============================] - 0s 11ms/step - loss: 0.0031\n",
            "Epoch 40/100\n",
            "34/34 [==============================] - 0s 11ms/step - loss: 0.0029\n",
            "Epoch 41/100\n",
            "34/34 [==============================] - 0s 10ms/step - loss: 0.0030\n",
            "Epoch 42/100\n",
            "34/34 [==============================] - 0s 11ms/step - loss: 0.0029\n",
            "Epoch 43/100\n",
            "34/34 [==============================] - 0s 11ms/step - loss: 0.0029\n",
            "Epoch 44/100\n",
            "34/34 [==============================] - 0s 11ms/step - loss: 0.0028\n",
            "Epoch 45/100\n",
            "34/34 [==============================] - 0s 11ms/step - loss: 0.0028\n",
            "Epoch 46/100\n",
            "34/34 [==============================] - 0s 10ms/step - loss: 0.0028\n",
            "Epoch 47/100\n",
            "34/34 [==============================] - 0s 11ms/step - loss: 0.0027\n",
            "Epoch 48/100\n",
            "34/34 [==============================] - 0s 10ms/step - loss: 0.0027\n",
            "Epoch 49/100\n",
            "34/34 [==============================] - 0s 11ms/step - loss: 0.0027\n",
            "Epoch 50/100\n",
            "34/34 [==============================] - 0s 11ms/step - loss: 0.0026\n",
            "Epoch 51/100\n",
            "34/34 [==============================] - 0s 11ms/step - loss: 0.0026\n",
            "Epoch 52/100\n",
            "34/34 [==============================] - 0s 10ms/step - loss: 0.0026\n",
            "Epoch 53/100\n",
            "34/34 [==============================] - 0s 11ms/step - loss: 0.0026\n",
            "Epoch 54/100\n",
            "34/34 [==============================] - 0s 10ms/step - loss: 0.0025\n",
            "Epoch 55/100\n",
            "34/34 [==============================] - 0s 11ms/step - loss: 0.0025\n",
            "Epoch 56/100\n",
            "34/34 [==============================] - 0s 11ms/step - loss: 0.0025\n",
            "Epoch 57/100\n",
            "34/34 [==============================] - 0s 11ms/step - loss: 0.0026\n",
            "Epoch 58/100\n",
            "34/34 [==============================] - 0s 12ms/step - loss: 0.0025\n",
            "Epoch 59/100\n",
            "34/34 [==============================] - 0s 10ms/step - loss: 0.0025\n",
            "Epoch 60/100\n",
            "34/34 [==============================] - 0s 11ms/step - loss: 0.0025\n",
            "Epoch 61/100\n",
            "34/34 [==============================] - 0s 11ms/step - loss: 0.0024\n",
            "Epoch 62/100\n",
            "34/34 [==============================] - 0s 10ms/step - loss: 0.0024\n",
            "Epoch 63/100\n",
            "34/34 [==============================] - 0s 11ms/step - loss: 0.0024\n",
            "Epoch 64/100\n",
            "34/34 [==============================] - 0s 11ms/step - loss: 0.0024\n",
            "Epoch 65/100\n",
            "34/34 [==============================] - 0s 10ms/step - loss: 0.0023\n",
            "Epoch 66/100\n",
            "34/34 [==============================] - 0s 11ms/step - loss: 0.0024\n",
            "Epoch 67/100\n",
            "34/34 [==============================] - 0s 10ms/step - loss: 0.0024\n",
            "Epoch 68/100\n",
            "34/34 [==============================] - 0s 10ms/step - loss: 0.0023\n",
            "Epoch 69/100\n",
            "34/34 [==============================] - 0s 11ms/step - loss: 0.0023\n",
            "Epoch 70/100\n",
            "34/34 [==============================] - 0s 11ms/step - loss: 0.0024\n",
            "Epoch 71/100\n",
            "34/34 [==============================] - 0s 11ms/step - loss: 0.0022\n",
            "Epoch 72/100\n",
            "34/34 [==============================] - 0s 11ms/step - loss: 0.0023\n",
            "Epoch 73/100\n",
            "34/34 [==============================] - 0s 11ms/step - loss: 0.0023\n",
            "Epoch 74/100\n",
            "34/34 [==============================] - 0s 11ms/step - loss: 0.0022\n",
            "Epoch 75/100\n",
            "34/34 [==============================] - 0s 11ms/step - loss: 0.0022\n",
            "Epoch 76/100\n",
            "34/34 [==============================] - 0s 11ms/step - loss: 0.0023\n",
            "Epoch 77/100\n",
            "34/34 [==============================] - 0s 11ms/step - loss: 0.0022\n",
            "Epoch 78/100\n",
            "34/34 [==============================] - 0s 11ms/step - loss: 0.0022\n",
            "Epoch 79/100\n",
            "34/34 [==============================] - 0s 12ms/step - loss: 0.0023\n",
            "Epoch 80/100\n",
            "34/34 [==============================] - 0s 11ms/step - loss: 0.0022\n",
            "Epoch 81/100\n",
            "34/34 [==============================] - 0s 11ms/step - loss: 0.0022\n",
            "Epoch 82/100\n",
            "34/34 [==============================] - 0s 13ms/step - loss: 0.0022\n",
            "Epoch 83/100\n",
            "34/34 [==============================] - 0s 11ms/step - loss: 0.0022\n",
            "Epoch 84/100\n",
            "34/34 [==============================] - 0s 12ms/step - loss: 0.0021\n",
            "Epoch 85/100\n",
            "34/34 [==============================] - 0s 12ms/step - loss: 0.0021\n",
            "Epoch 86/100\n",
            "34/34 [==============================] - 0s 11ms/step - loss: 0.0021\n",
            "Epoch 87/100\n",
            "34/34 [==============================] - 0s 11ms/step - loss: 0.0021\n",
            "Epoch 88/100\n",
            "34/34 [==============================] - 0s 11ms/step - loss: 0.0021\n",
            "Epoch 89/100\n",
            "34/34 [==============================] - 0s 11ms/step - loss: 0.0021\n",
            "Epoch 90/100\n",
            "34/34 [==============================] - 0s 11ms/step - loss: 0.0021\n",
            "Epoch 91/100\n",
            "34/34 [==============================] - 0s 11ms/step - loss: 0.0021\n",
            "Epoch 92/100\n",
            "34/34 [==============================] - 0s 11ms/step - loss: 0.0020\n",
            "Epoch 93/100\n",
            "34/34 [==============================] - 0s 12ms/step - loss: 0.0020\n",
            "Epoch 94/100\n",
            "34/34 [==============================] - 0s 11ms/step - loss: 0.0020\n",
            "Epoch 95/100\n",
            "34/34 [==============================] - 0s 11ms/step - loss: 0.0020\n",
            "Epoch 96/100\n",
            "34/34 [==============================] - 0s 11ms/step - loss: 0.0020\n",
            "Epoch 97/100\n",
            "34/34 [==============================] - 0s 11ms/step - loss: 0.0020\n",
            "Epoch 98/100\n",
            "34/34 [==============================] - 0s 11ms/step - loss: 0.0020\n",
            "Epoch 99/100\n",
            "34/34 [==============================] - 0s 11ms/step - loss: 0.0020\n",
            "Epoch 100/100\n",
            "34/34 [==============================] - 0s 11ms/step - loss: 0.0019\n",
            "y_valid_predict shape:  (121, 30)\n",
            "y_predicted  shape:  (1083, 30)\n"
          ]
        }
      ]
    },
    {
      "cell_type": "code",
      "metadata": {
        "id": "wTvUhmgj8vom",
        "colab": {
          "base_uri": "https://localhost:8080/"
        },
        "outputId": "e757b712-fa4c-4060-8805-8b6bcc83ffa0"
      },
      "source": [
        "y_valid.min()"
      ],
      "execution_count": 22,
      "outputs": [
        {
          "output_type": "execute_result",
          "data": {
            "text/plain": [
              "0.0"
            ]
          },
          "metadata": {},
          "execution_count": 22
        }
      ]
    },
    {
      "cell_type": "code",
      "metadata": {
        "id": "0N0CnveG9Gn-",
        "colab": {
          "base_uri": "https://localhost:8080/"
        },
        "outputId": "cac3974d-b937-4100-daea-84e6b0119b25"
      },
      "source": [
        "y_valid_predicted.min()"
      ],
      "execution_count": 23,
      "outputs": [
        {
          "output_type": "execute_result",
          "data": {
            "text/plain": [
              "69156.33"
            ]
          },
          "metadata": {},
          "execution_count": 23
        }
      ]
    },
    {
      "cell_type": "code",
      "metadata": {
        "id": "03ztmIshLmHz",
        "colab": {
          "base_uri": "https://localhost:8080/"
        },
        "outputId": "bf28cb07-94a9-4165-86be-5c2dad56f5a4"
      },
      "source": [
        "# # 1년치 데이터를 그래프로 그리기 위해 flatten\n",
        "y_valid_real = y_valid_real.flatten()\n",
        "y_valid_predicted = y_valid_predicted.flatten()\n",
        "\n",
        "print(y_valid_real.shape[0] // 30)\n",
        "\n",
        "draw_real_valid = []\n",
        "draw_pred_valid = []\n",
        "\n",
        "# # 30일 단위로 예측을 했으므로 30일 간격을 가진 채로 이어붙이기\n",
        "idx = 0\n",
        "while idx < y_valid_real.shape[0]:\n",
        "  draw_real_valid.append(y_valid_real[idx])\n",
        "  draw_pred_valid.append(y_valid_predicted[idx])\n",
        "  idx += 30\n",
        "\n",
        "# draw_real_valid[0:60]\n"
      ],
      "execution_count": 24,
      "outputs": [
        {
          "output_type": "stream",
          "name": "stdout",
          "text": [
            "121\n"
          ]
        }
      ]
    },
    {
      "cell_type": "code",
      "metadata": {
        "colab": {
          "base_uri": "https://localhost:8080/"
        },
        "id": "qhM9bLGNE5LW",
        "outputId": "298c086a-2d7e-4a0a-f399-aa05958f5377"
      },
      "source": [
        "# # 1년치 데이터를 그래프로 그리기 위해 flatten\n",
        "y_train_real = y_train_real.flatten()\n",
        "y_predicted = y_predicted.flatten()\n",
        "\n",
        "print(y_train_real.shape[0] // 30)\n",
        "\n",
        "draw_real = []\n",
        "draw_pred = []\n",
        "\n",
        "# # 30일 단위로 예측을 했으므로 30일 간격을 가진 채로 이어붙이기\n",
        "idx = 0\n",
        "while idx < y_train_real.shape[0]:\n",
        "  draw_real.append(y_train_real[idx])\n",
        "  draw_pred.append(y_predicted[idx])\n",
        "  idx += 30\n",
        "\n",
        "# draw_real_valid[0:60]"
      ],
      "execution_count": 25,
      "outputs": [
        {
          "output_type": "stream",
          "name": "stdout",
          "text": [
            "1083\n"
          ]
        }
      ]
    },
    {
      "cell_type": "code",
      "metadata": {
        "id": "rtUjJUH2iAxT",
        "colab": {
          "base_uri": "https://localhost:8080/"
        },
        "outputId": "3d9a5f63-79e9-4dc7-f3eb-8efae544ec5d"
      },
      "source": [
        "print(len(draw_pred))"
      ],
      "execution_count": 26,
      "outputs": [
        {
          "output_type": "stream",
          "name": "stdout",
          "text": [
            "1083\n"
          ]
        }
      ]
    },
    {
      "cell_type": "code",
      "metadata": {
        "id": "LD_Mj9c3L-2B",
        "colab": {
          "base_uri": "https://localhost:8080/",
          "height": 607
        },
        "outputId": "85ea5057-1a0d-4e8d-8bb7-6117bfe241b6"
      },
      "source": [
        "import matplotlib.pyplot as plt\n",
        "\n",
        "plt.gcf().set_size_inches(15, 10, forward=True)\n",
        "\n",
        "start = 0\n",
        "end = -1\n",
        "\n",
        "real = plt.plot(draw_real[start:800], label='real')\n",
        "pred = plt.plot(draw_pred[start:800], label='predicted')\n",
        "\n",
        "plt.legend(['Real', 'Predicted'])\n",
        "plt.title('LSTM_Train')\n",
        "plt.show()"
      ],
      "execution_count": 27,
      "outputs": [
        {
          "output_type": "display_data",
          "data": {
            "image/png": "[encoded data removed]",
            "text/plain": [
              "<Figure size 1080x720 with 1 Axes>"
            ]
          },
          "metadata": {
            "needs_background": "light"
          }
        }
      ]
    },
    {
      "cell_type": "code",
      "metadata": {
        "id": "sTn1c-05nBmh",
        "colab": {
          "base_uri": "https://localhost:8080/",
          "height": 607
        },
        "outputId": "6130af36-9c68-4c9a-df4c-4399481f58e1"
      },
      "source": [
        "# 1년치 데이터를 그래프로 그리기 위해 flatten\n",
        "# draw_real_valid = y_valid_real.flatten()\n",
        "# draw_pred_valid = y_valid_predicted.flatten()\n",
        "\n",
        "import matplotlib.pyplot as plt\n",
        "\n",
        "plt.gcf().set_size_inches(15, 10, forward=True)\n",
        "\n",
        "start = 0\n",
        "end = -1\n",
        "\n",
        "real = plt.plot(draw_real_valid[start:120], label='real')\n",
        "pred = plt.plot(draw_pred_valid[start:120], label='predicted')\n",
        "\n",
        "plt.legend(['Real', 'Predicted'])\n",
        "plt.title('LSTM_Valid')\n",
        "plt.show()"
      ],
      "execution_count": 28,
      "outputs": [
        {
          "output_type": "display_data",
          "data": {
            "image/png": "[encoded data removed]",
            "text/plain": [
              "<Figure size 1080x720 with 1 Axes>"
            ]
          },
          "metadata": {
            "needs_background": "light"
          }
        }
      ]
    },
    {
      "cell_type": "code",
      "metadata": {
        "id": "f0tA8XcWuCXR",
        "colab": {
          "base_uri": "https://localhost:8080/"
        },
        "outputId": "110930cf-25fb-4a4f-da85-fa34c75b9772"
      },
      "source": [
        "# real data\n",
        "draw_real[1]"
      ],
      "execution_count": 29,
      "outputs": [
        {
          "output_type": "execute_result",
          "data": {
            "text/plain": [
              "69524"
            ]
          },
          "metadata": {},
          "execution_count": 29
        }
      ]
    },
    {
      "cell_type": "code",
      "metadata": {
        "id": "HOHAzWM1IzDt",
        "colab": {
          "base_uri": "https://localhost:8080/"
        },
        "outputId": "f2f358a4-f9a1-4fb7-d84d-2b8e27c336a8"
      },
      "source": [
        "# predict data\n",
        "draw_pred[0]"
      ],
      "execution_count": 30,
      "outputs": [
        {
          "output_type": "execute_result",
          "data": {
            "text/plain": [
              "69906.35"
            ]
          },
          "metadata": {},
          "execution_count": 30
        }
      ]
    },
    {
      "cell_type": "code",
      "metadata": {
        "id": "Y1dnQe6eI3yT",
        "colab": {
          "base_uri": "https://localhost:8080/"
        },
        "outputId": "265cd9fa-30b5-4567-838c-c5feee10e001"
      },
      "source": [
        "print('-------------Train-------------')\n",
        "for i in range(30):\n",
        "  print('실제 가격 : ' , draw_real[i], end=\"\")\n",
        "  print(' / 예측 가격 : ', draw_pred[i])"
      ],
      "execution_count": 31,
      "outputs": [
        {
          "output_type": "stream",
          "name": "stdout",
          "text": [
            "-------------Train-------------\n",
            "실제 가격 :  69132 / 예측 가격 :  69906.35\n",
            "실제 가격 :  69524 / 예측 가격 :  69969.8\n",
            "실제 가격 :  69120 / 예측 가격 :  70006.93\n",
            "실제 가격 :  68519 / 예측 가격 :  70046.945\n",
            "실제 가격 :  69557 / 예측 가격 :  70092.914\n",
            "실제 가격 :  69746 / 예측 가격 :  70134.17\n",
            "실제 가격 :  69511 / 예측 가격 :  70179.19\n",
            "실제 가격 :  69180 / 예측 가격 :  70227.53\n",
            "실제 가격 :  68983 / 예측 가격 :  70278.84\n",
            "실제 가격 :  68983 / 예측 가격 :  70338.15\n",
            "실제 가격 :  68783 / 예측 가격 :  70402.54\n",
            "실제 가격 :  69409 / 예측 가격 :  70472.52\n",
            "실제 가격 :  68606 / 예측 가격 :  70536.85\n",
            "실제 가격 :  68756 / 예측 가격 :  70608.1\n",
            "실제 가격 :  69039 / 예측 가격 :  70668.08\n",
            "실제 가격 :  70036 / 예측 가격 :  70669.22\n",
            "실제 가격 :  69809 / 예측 가격 :  70745.46\n",
            "실제 가격 :  70737 / 예측 가격 :  70825.125\n",
            "실제 가격 :  70689 / 예측 가격 :  70896.54\n",
            "실제 가격 :  70744 / 예측 가격 :  70965.58\n",
            "실제 가격 :  71064 / 예측 가격 :  71041.445\n",
            "실제 가격 :  71064 / 예측 가격 :  71119.33\n",
            "실제 가격 :  70678 / 예측 가격 :  71202.84\n",
            "실제 가격 :  70511 / 예측 가격 :  71303.55\n",
            "실제 가격 :  70553 / 예측 가격 :  71415.414\n",
            "실제 가격 :  70864 / 예측 가격 :  71544.0\n",
            "실제 가격 :  70600 / 예측 가격 :  71677.13\n",
            "실제 가격 :  71420 / 예측 가격 :  71821.45\n",
            "실제 가격 :  72222 / 예측 가격 :  71952.99\n",
            "실제 가격 :  71392 / 예측 가격 :  72072.62\n"
          ]
        }
      ]
    },
    {
      "cell_type": "code",
      "metadata": {
        "id": "M5URLEq-l2L5",
        "colab": {
          "base_uri": "https://localhost:8080/"
        },
        "outputId": "7708489f-f5e6-4129-b58c-7d1283d6b231"
      },
      "source": [
        "print('-------------Train-------------')\n",
        "for i in range(30):\n",
        "  print('실제 가격 - 예측 가격 : ', draw_real[i] - draw_pred[i])"
      ],
      "execution_count": 32,
      "outputs": [
        {
          "output_type": "stream",
          "name": "stdout",
          "text": [
            "-------------Train-------------\n",
            "실제 가격 - 예측 가격 :  -774.3515625\n",
            "실제 가격 - 예측 가격 :  -445.796875\n",
            "실제 가격 - 예측 가격 :  -886.9296875\n",
            "실제 가격 - 예측 가격 :  -1527.9453125\n",
            "실제 가격 - 예측 가격 :  -535.9140625\n",
            "실제 가격 - 예측 가격 :  -388.171875\n",
            "실제 가격 - 예측 가격 :  -668.1875\n",
            "실제 가격 - 예측 가격 :  -1047.53125\n",
            "실제 가격 - 예측 가격 :  -1295.84375\n",
            "실제 가격 - 예측 가격 :  -1355.1484375\n",
            "실제 가격 - 예측 가격 :  -1619.5390625\n",
            "실제 가격 - 예측 가격 :  -1063.5234375\n",
            "실제 가격 - 예측 가격 :  -1930.8515625\n",
            "실제 가격 - 예측 가격 :  -1852.1015625\n",
            "실제 가격 - 예측 가격 :  -1629.078125\n",
            "실제 가격 - 예측 가격 :  -633.21875\n",
            "실제 가격 - 예측 가격 :  -936.4609375\n",
            "실제 가격 - 예측 가격 :  -88.125\n",
            "실제 가격 - 예측 가격 :  -207.5390625\n",
            "실제 가격 - 예측 가격 :  -221.578125\n",
            "실제 가격 - 예측 가격 :  22.5546875\n",
            "실제 가격 - 예측 가격 :  -55.328125\n",
            "실제 가격 - 예측 가격 :  -524.84375\n",
            "실제 가격 - 예측 가격 :  -792.546875\n",
            "실제 가격 - 예측 가격 :  -862.4140625\n",
            "실제 가격 - 예측 가격 :  -680.0\n",
            "실제 가격 - 예측 가격 :  -1077.1328125\n",
            "실제 가격 - 예측 가격 :  -401.453125\n",
            "실제 가격 - 예측 가격 :  269.0078125\n",
            "실제 가격 - 예측 가격 :  -680.6171875\n"
          ]
        }
      ]
    },
    {
      "cell_type": "code",
      "metadata": {
        "id": "tH-YxsPOmQE7",
        "colab": {
          "base_uri": "https://localhost:8080/"
        },
        "outputId": "45172d30-69e0-4ad8-df7c-2623b38de6ca"
      },
      "source": [
        "print('-------------Test-------------')\n",
        "for i in range(30):\n",
        "  print('실제 가격 : ' , draw_real_valid[i], end=\"\")\n",
        "  print(' / 예측 가격 : ', draw_pred_valid[i])"
      ],
      "execution_count": 33,
      "outputs": [
        {
          "output_type": "stream",
          "name": "stdout",
          "text": [
            "-------------Test-------------\n",
            "실제 가격 :  64390 / 예측 가격 :  71598.49\n",
            "실제 가격 :  65654 / 예측 가격 :  71599.484\n",
            "실제 가격 :  65397 / 예측 가격 :  71597.55\n",
            "실제 가격 :  65539 / 예측 가격 :  71601.05\n",
            "실제 가격 :  62858 / 예측 가격 :  71603.086\n",
            "실제 가격 :  62858 / 예측 가격 :  71619.086\n",
            "실제 가격 :  62440 / 예측 가격 :  71655.98\n",
            "실제 가격 :  62440 / 예측 가격 :  71703.266\n",
            "실제 가격 :  62235 / 예측 가격 :  71745.79\n",
            "실제 가격 :  65114 / 예측 가격 :  71894.74\n",
            "실제 가격 :  64923 / 예측 가격 :  71892.875\n",
            "실제 가격 :  65555 / 예측 가격 :  71888.305\n",
            "실제 가격 :  65721 / 예측 가격 :  71839.5\n",
            "실제 가격 :  65721 / 예측 가격 :  71785.19\n",
            "실제 가격 :  66428 / 예측 가격 :  71717.85\n",
            "실제 가격 :  66300 / 예측 가격 :  71637.336\n",
            "실제 가격 :  66831 / 예측 가격 :  71563.39\n",
            "실제 가격 :  66754 / 예측 가격 :  71491.484\n",
            "실제 가격 :  66376 / 예측 가격 :  71424.08\n",
            "실제 가격 :  66855 / 예측 가격 :  71359.4\n",
            "실제 가격 :  66725 / 예측 가격 :  71297.18\n",
            "실제 가격 :  66725 / 예측 가격 :  71240.305\n",
            "실제 가격 :  67435 / 예측 가격 :  71192.54\n",
            "실제 가격 :  67610 / 예측 가격 :  71131.97\n",
            "실제 가격 :  65660 / 예측 가격 :  71069.445\n",
            "실제 가격 :  65723 / 예측 가격 :  71034.82\n",
            "실제 가격 :  65331 / 예측 가격 :  71012.234\n",
            "실제 가격 :  65844 / 예측 가격 :  70991.016\n",
            "실제 가격 :  65844 / 예측 가격 :  70968.86\n",
            "실제 가격 :  66495 / 예측 가격 :  70939.8\n"
          ]
        }
      ]
    },
    {
      "cell_type": "code",
      "metadata": {
        "id": "8vYkgRJYpGFB",
        "colab": {
          "base_uri": "https://localhost:8080/"
        },
        "outputId": "5d56659a-1261-4986-d5de-9fcadc47d97d"
      },
      "source": [
        "print('-------------Test-------------')\n",
        "for i in range(30):\n",
        "  print('실제 가격 - 예측 가격 : ', draw_real_valid[i] - draw_pred_valid[i])"
      ],
      "execution_count": 34,
      "outputs": [
        {
          "output_type": "stream",
          "name": "stdout",
          "text": [
            "-------------Test-------------\n",
            "실제 가격 - 예측 가격 :  -7208.4921875\n",
            "실제 가격 - 예측 가격 :  -5945.484375\n",
            "실제 가격 - 예측 가격 :  -6200.546875\n",
            "실제 가격 - 예측 가격 :  -6062.046875\n",
            "실제 가격 - 예측 가격 :  -8745.0859375\n",
            "실제 가격 - 예측 가격 :  -8761.0859375\n",
            "실제 가격 - 예측 가격 :  -9215.9765625\n",
            "실제 가격 - 예측 가격 :  -9263.265625\n",
            "실제 가격 - 예측 가격 :  -9510.7890625\n",
            "실제 가격 - 예측 가격 :  -6780.7421875\n",
            "실제 가격 - 예측 가격 :  -6969.875\n",
            "실제 가격 - 예측 가격 :  -6333.3046875\n",
            "실제 가격 - 예측 가격 :  -6118.5\n",
            "실제 가격 - 예측 가격 :  -6064.1875\n",
            "실제 가격 - 예측 가격 :  -5289.8515625\n",
            "실제 가격 - 예측 가격 :  -5337.3359375\n",
            "실제 가격 - 예측 가격 :  -4732.390625\n",
            "실제 가격 - 예측 가격 :  -4737.484375\n",
            "실제 가격 - 예측 가격 :  -5048.078125\n",
            "실제 가격 - 예측 가격 :  -4504.3984375\n",
            "실제 가격 - 예측 가격 :  -4572.1796875\n",
            "실제 가격 - 예측 가격 :  -4515.3046875\n",
            "실제 가격 - 예측 가격 :  -3757.5390625\n",
            "실제 가격 - 예측 가격 :  -3521.96875\n",
            "실제 가격 - 예측 가격 :  -5409.4453125\n",
            "실제 가격 - 예측 가격 :  -5311.8203125\n",
            "실제 가격 - 예측 가격 :  -5681.234375\n",
            "실제 가격 - 예측 가격 :  -5147.015625\n",
            "실제 가격 - 예측 가격 :  -5124.859375\n",
            "실제 가격 - 예측 가격 :  -4444.796875\n"
          ]
        }
      ]
    },
    {
      "cell_type": "code",
      "metadata": {
        "id": "reVmCYxsKkSN"
      },
      "source": [
        ""
      ],
      "execution_count": 34,
      "outputs": []
    }
  ]
}