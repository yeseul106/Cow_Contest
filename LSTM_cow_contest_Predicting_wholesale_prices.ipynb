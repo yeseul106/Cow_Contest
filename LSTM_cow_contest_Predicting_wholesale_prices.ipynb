{
  "nbformat": 4,
  "nbformat_minor": 0,
  "metadata": {
    "colab": {
      "name": "LSTM_cow_contest_Predicting wholesale prices.ipynb",
      "provenance": [],
      "collapsed_sections": [],
      "mount_file_id": "1j0LIw_5kkOOpWeMREJqCxM9gQDj7faXI",
      "authorship_tag": "ABX9TyPig4E/HVKLClGSUO6Wm+5b",
      "include_colab_link": true
    },
    "kernelspec": {
      "name": "python3",
      "display_name": "Python 3"
    },
    "language_info": {
      "name": "python"
    }
  },
  "cells": [
    {
      "cell_type": "markdown",
      "metadata": {
        "id": "view-in-github",
        "colab_type": "text"
      },
      "source": [
        "<a href=\"https://colab.research.google.com/github/yeseul106/Cow_Contest/blob/main/LSTM_cow_contest_Predicting_wholesale_prices.ipynb\" target=\"_parent\"><img src=\"https://colab.research.google.com/assets/colab-badge.svg\" alt=\"Open In Colab\"/></a>"
      ]
    },
    {
      "cell_type": "code",
      "metadata": {
        "colab": {
          "base_uri": "https://localhost:8080/"
        },
        "id": "0t54t8JFrqgH",
        "outputId": "7a65add1-eef7-4ef7-ae57-f584f0c40d1f"
      },
      "source": [
        "from google.colab import drive\n",
        "drive.mount('/content/drive')"
      ],
      "execution_count": null,
      "outputs": [
        {
          "output_type": "stream",
          "name": "stdout",
          "text": [
            "Drive already mounted at /content/drive; to attempt to forcibly remount, call drive.mount(\"/content/drive\", force_remount=True).\n"
          ]
        }
      ]
    },
    {
      "cell_type": "markdown",
      "metadata": {
        "id": "O9T0p3-eEDpm"
      },
      "source": [
        "#**도매 가격 예측부터 !**\n",
        "\n",
        "30일 간 데이터를 이용하여 향후 한달 가격 예측 <br>\n",
        "\n",
        "input shape : 16 X 30 <br>\n",
        "\n",
        "output shape : 1 X 30\n",
        "\n",
        "\n",
        "\n",
        "\n"
      ]
    },
    {
      "cell_type": "code",
      "metadata": {
        "colab": {
          "base_uri": "https://localhost:8080/",
          "height": 242
        },
        "id": "7aDoyVt0_RXe",
        "outputId": "de05f735-93ce-487f-dbe1-7f5f7d6722f3"
      },
      "source": [
        "import pandas as pd\n",
        "import numpy as np\n",
        "from sklearn.model_selection import train_test_split\n",
        "\n",
        "'''''''''''''''read csv file'''''''''''''''\n",
        "trainData = pd.read_csv('/content/drive/MyDrive/cow_contest/preprocessed_unNormalized_2015_2019.csv', encoding='cp949')\n",
        "testData =  pd.read_csv('/content/drive/MyDrive/cow_contest/preprocessed_unNormalized_2020.csv', encoding='cp949')\n",
        "print(\"2015_2019 데이터 shape :\",trainData.shape)\n",
        "print(\"2020 데이터 shape :\",testData.shape)\n",
        "trainData.head(5)  # 정규화까지 processing한 상태"
      ],
      "execution_count": null,
      "outputs": [
        {
          "output_type": "stream",
          "name": "stdout",
          "text": [
            "2015_2019 데이터 shape : (1235, 16)\n",
            "2020 데이터 shape : (251, 16)\n"
          ]
        },
        {
          "output_type": "execute_result",
          "data": {
            "text/html": [
              "<div>\n",
              "<style scoped>\n",
              "    .dataframe tbody tr th:only-of-type {\n",
              "        vertical-align: middle;\n",
              "    }\n",
              "\n",
              "    .dataframe tbody tr th {\n",
              "        vertical-align: top;\n",
              "    }\n",
              "\n",
              "    .dataframe thead th {\n",
              "        text-align: right;\n",
              "    }\n",
              "</style>\n",
              "<table border=\"1\" class=\"dataframe\">\n",
              "  <thead>\n",
              "    <tr style=\"text-align: right;\">\n",
              "      <th></th>\n",
              "      <th>날짜</th>\n",
              "      <th>가임암소 수</th>\n",
              "      <th>도축 수</th>\n",
              "      <th>암송아지가격</th>\n",
              "      <th>숫송아지가격</th>\n",
              "      <th>소비자 심리지수</th>\n",
              "      <th>물가 총지수</th>\n",
              "      <th>물가 농축수산물지수</th>\n",
              "      <th>도체 중량</th>\n",
              "      <th>생산량</th>\n",
              "      <th>출생두수</th>\n",
              "      <th>사육비</th>\n",
              "      <th>도매 가격</th>\n",
              "      <th>소비자 가격</th>\n",
              "      <th>당해 도매 가격</th>\n",
              "      <th>당해 소비자 가격</th>\n",
              "    </tr>\n",
              "  </thead>\n",
              "  <tbody>\n",
              "    <tr>\n",
              "      <th>0</th>\n",
              "      <td>20150102</td>\n",
              "      <td>571347</td>\n",
              "      <td>96045</td>\n",
              "      <td>839.000000</td>\n",
              "      <td>1370.0</td>\n",
              "      <td>102.0</td>\n",
              "      <td>99.77</td>\n",
              "      <td>99.74</td>\n",
              "      <td>413.051366</td>\n",
              "      <td>267</td>\n",
              "      <td>50325</td>\n",
              "      <td>6867510</td>\n",
              "      <td>17343</td>\n",
              "      <td>78497</td>\n",
              "      <td>14255</td>\n",
              "      <td>64390</td>\n",
              "    </tr>\n",
              "    <tr>\n",
              "      <th>1</th>\n",
              "      <td>20150105</td>\n",
              "      <td>571347</td>\n",
              "      <td>96045</td>\n",
              "      <td>839.333333</td>\n",
              "      <td>1430.0</td>\n",
              "      <td>102.0</td>\n",
              "      <td>99.77</td>\n",
              "      <td>99.74</td>\n",
              "      <td>413.051366</td>\n",
              "      <td>267</td>\n",
              "      <td>50325</td>\n",
              "      <td>6867510</td>\n",
              "      <td>18445</td>\n",
              "      <td>78548</td>\n",
              "      <td>14158</td>\n",
              "      <td>65654</td>\n",
              "    </tr>\n",
              "    <tr>\n",
              "      <th>2</th>\n",
              "      <td>20150106</td>\n",
              "      <td>571347</td>\n",
              "      <td>96045</td>\n",
              "      <td>839.666667</td>\n",
              "      <td>1490.0</td>\n",
              "      <td>102.0</td>\n",
              "      <td>99.77</td>\n",
              "      <td>99.74</td>\n",
              "      <td>413.051366</td>\n",
              "      <td>267</td>\n",
              "      <td>50325</td>\n",
              "      <td>6867510</td>\n",
              "      <td>18813</td>\n",
              "      <td>78738</td>\n",
              "      <td>14758</td>\n",
              "      <td>65397</td>\n",
              "    </tr>\n",
              "    <tr>\n",
              "      <th>3</th>\n",
              "      <td>20150107</td>\n",
              "      <td>571347</td>\n",
              "      <td>96045</td>\n",
              "      <td>840.000000</td>\n",
              "      <td>1550.0</td>\n",
              "      <td>102.0</td>\n",
              "      <td>99.77</td>\n",
              "      <td>99.74</td>\n",
              "      <td>413.051366</td>\n",
              "      <td>267</td>\n",
              "      <td>50325</td>\n",
              "      <td>6867510</td>\n",
              "      <td>18905</td>\n",
              "      <td>76974</td>\n",
              "      <td>14838</td>\n",
              "      <td>65539</td>\n",
              "    </tr>\n",
              "    <tr>\n",
              "      <th>4</th>\n",
              "      <td>20150108</td>\n",
              "      <td>571347</td>\n",
              "      <td>96045</td>\n",
              "      <td>852.000000</td>\n",
              "      <td>1555.0</td>\n",
              "      <td>102.0</td>\n",
              "      <td>99.77</td>\n",
              "      <td>99.74</td>\n",
              "      <td>413.051366</td>\n",
              "      <td>267</td>\n",
              "      <td>50325</td>\n",
              "      <td>6867510</td>\n",
              "      <td>18950</td>\n",
              "      <td>76924</td>\n",
              "      <td>14859</td>\n",
              "      <td>62858</td>\n",
              "    </tr>\n",
              "  </tbody>\n",
              "</table>\n",
              "</div>"
            ],
            "text/plain": [
              "         날짜  가임암소 수   도축 수      암송아지가격  ...  도매 가격  소비자 가격  당해 도매 가격  당해 소비자 가격\n",
              "0  20150102  571347  96045  839.000000  ...  17343   78497     14255      64390\n",
              "1  20150105  571347  96045  839.333333  ...  18445   78548     14158      65654\n",
              "2  20150106  571347  96045  839.666667  ...  18813   78738     14758      65397\n",
              "3  20150107  571347  96045  840.000000  ...  18905   76974     14838      65539\n",
              "4  20150108  571347  96045  852.000000  ...  18950   76924     14859      62858\n",
              "\n",
              "[5 rows x 16 columns]"
            ]
          },
          "metadata": {},
          "execution_count": 411
        }
      ]
    },
    {
      "cell_type": "code",
      "metadata": {
        "id": "1DOSReikACxL"
      },
      "source": [
        "'''''''''''''''seperate x and y data'''''''''''''''\n",
        "# 일단 지금은 한달 가격 예측이므로 1년 뒤 도매 가격 제거\n",
        "trainData = trainData.drop(columns=['도매 가격'])"
      ],
      "execution_count": null,
      "outputs": []
    },
    {
      "cell_type": "code",
      "metadata": {
        "colab": {
          "base_uri": "https://localhost:8080/",
          "height": 205
        },
        "id": "NryVlk02HWn_",
        "outputId": "65bf9d04-9b1f-4c99-ff53-142150e209ee"
      },
      "source": [
        "trainData.head(5)"
      ],
      "execution_count": null,
      "outputs": [
        {
          "output_type": "execute_result",
          "data": {
            "text/html": [
              "<div>\n",
              "<style scoped>\n",
              "    .dataframe tbody tr th:only-of-type {\n",
              "        vertical-align: middle;\n",
              "    }\n",
              "\n",
              "    .dataframe tbody tr th {\n",
              "        vertical-align: top;\n",
              "    }\n",
              "\n",
              "    .dataframe thead th {\n",
              "        text-align: right;\n",
              "    }\n",
              "</style>\n",
              "<table border=\"1\" class=\"dataframe\">\n",
              "  <thead>\n",
              "    <tr style=\"text-align: right;\">\n",
              "      <th></th>\n",
              "      <th>날짜</th>\n",
              "      <th>가임암소 수</th>\n",
              "      <th>도축 수</th>\n",
              "      <th>암송아지가격</th>\n",
              "      <th>숫송아지가격</th>\n",
              "      <th>소비자 심리지수</th>\n",
              "      <th>물가 총지수</th>\n",
              "      <th>물가 농축수산물지수</th>\n",
              "      <th>도체 중량</th>\n",
              "      <th>생산량</th>\n",
              "      <th>출생두수</th>\n",
              "      <th>사육비</th>\n",
              "      <th>소비자 가격</th>\n",
              "      <th>당해 도매 가격</th>\n",
              "      <th>당해 소비자 가격</th>\n",
              "    </tr>\n",
              "  </thead>\n",
              "  <tbody>\n",
              "    <tr>\n",
              "      <th>0</th>\n",
              "      <td>20150102</td>\n",
              "      <td>571347</td>\n",
              "      <td>96045</td>\n",
              "      <td>839.000000</td>\n",
              "      <td>1370.0</td>\n",
              "      <td>102.0</td>\n",
              "      <td>99.77</td>\n",
              "      <td>99.74</td>\n",
              "      <td>413.051366</td>\n",
              "      <td>267</td>\n",
              "      <td>50325</td>\n",
              "      <td>6867510</td>\n",
              "      <td>78497</td>\n",
              "      <td>14255</td>\n",
              "      <td>64390</td>\n",
              "    </tr>\n",
              "    <tr>\n",
              "      <th>1</th>\n",
              "      <td>20150105</td>\n",
              "      <td>571347</td>\n",
              "      <td>96045</td>\n",
              "      <td>839.333333</td>\n",
              "      <td>1430.0</td>\n",
              "      <td>102.0</td>\n",
              "      <td>99.77</td>\n",
              "      <td>99.74</td>\n",
              "      <td>413.051366</td>\n",
              "      <td>267</td>\n",
              "      <td>50325</td>\n",
              "      <td>6867510</td>\n",
              "      <td>78548</td>\n",
              "      <td>14158</td>\n",
              "      <td>65654</td>\n",
              "    </tr>\n",
              "    <tr>\n",
              "      <th>2</th>\n",
              "      <td>20150106</td>\n",
              "      <td>571347</td>\n",
              "      <td>96045</td>\n",
              "      <td>839.666667</td>\n",
              "      <td>1490.0</td>\n",
              "      <td>102.0</td>\n",
              "      <td>99.77</td>\n",
              "      <td>99.74</td>\n",
              "      <td>413.051366</td>\n",
              "      <td>267</td>\n",
              "      <td>50325</td>\n",
              "      <td>6867510</td>\n",
              "      <td>78738</td>\n",
              "      <td>14758</td>\n",
              "      <td>65397</td>\n",
              "    </tr>\n",
              "    <tr>\n",
              "      <th>3</th>\n",
              "      <td>20150107</td>\n",
              "      <td>571347</td>\n",
              "      <td>96045</td>\n",
              "      <td>840.000000</td>\n",
              "      <td>1550.0</td>\n",
              "      <td>102.0</td>\n",
              "      <td>99.77</td>\n",
              "      <td>99.74</td>\n",
              "      <td>413.051366</td>\n",
              "      <td>267</td>\n",
              "      <td>50325</td>\n",
              "      <td>6867510</td>\n",
              "      <td>76974</td>\n",
              "      <td>14838</td>\n",
              "      <td>65539</td>\n",
              "    </tr>\n",
              "    <tr>\n",
              "      <th>4</th>\n",
              "      <td>20150108</td>\n",
              "      <td>571347</td>\n",
              "      <td>96045</td>\n",
              "      <td>852.000000</td>\n",
              "      <td>1555.0</td>\n",
              "      <td>102.0</td>\n",
              "      <td>99.77</td>\n",
              "      <td>99.74</td>\n",
              "      <td>413.051366</td>\n",
              "      <td>267</td>\n",
              "      <td>50325</td>\n",
              "      <td>6867510</td>\n",
              "      <td>76924</td>\n",
              "      <td>14859</td>\n",
              "      <td>62858</td>\n",
              "    </tr>\n",
              "  </tbody>\n",
              "</table>\n",
              "</div>"
            ],
            "text/plain": [
              "         날짜  가임암소 수   도축 수      암송아지가격  ...      사육비  소비자 가격  당해 도매 가격  당해 소비자 가격\n",
              "0  20150102  571347  96045  839.000000  ...  6867510   78497     14255      64390\n",
              "1  20150105  571347  96045  839.333333  ...  6867510   78548     14158      65654\n",
              "2  20150106  571347  96045  839.666667  ...  6867510   78738     14758      65397\n",
              "3  20150107  571347  96045  840.000000  ...  6867510   76974     14838      65539\n",
              "4  20150108  571347  96045  852.000000  ...  6867510   76924     14859      62858\n",
              "\n",
              "[5 rows x 15 columns]"
            ]
          },
          "metadata": {},
          "execution_count": 413
        }
      ]
    },
    {
      "cell_type": "code",
      "metadata": {
        "colab": {
          "base_uri": "https://localhost:8080/",
          "height": 205
        },
        "id": "sJHnXeNuHZqF",
        "outputId": "f62708b7-79cd-46ad-9bf5-76608d108951"
      },
      "source": [
        "# 도매 가격만 먼저 예측해보기 위함이므로 소비자 가격, 당해 소비자 가격 제거\n",
        "trainData = trainData.drop(columns=['소비자 가격', '당해 소비자 가격','날짜'])\n",
        "trainData.head(5)"
      ],
      "execution_count": null,
      "outputs": [
        {
          "output_type": "execute_result",
          "data": {
            "text/html": [
              "<div>\n",
              "<style scoped>\n",
              "    .dataframe tbody tr th:only-of-type {\n",
              "        vertical-align: middle;\n",
              "    }\n",
              "\n",
              "    .dataframe tbody tr th {\n",
              "        vertical-align: top;\n",
              "    }\n",
              "\n",
              "    .dataframe thead th {\n",
              "        text-align: right;\n",
              "    }\n",
              "</style>\n",
              "<table border=\"1\" class=\"dataframe\">\n",
              "  <thead>\n",
              "    <tr style=\"text-align: right;\">\n",
              "      <th></th>\n",
              "      <th>가임암소 수</th>\n",
              "      <th>도축 수</th>\n",
              "      <th>암송아지가격</th>\n",
              "      <th>숫송아지가격</th>\n",
              "      <th>소비자 심리지수</th>\n",
              "      <th>물가 총지수</th>\n",
              "      <th>물가 농축수산물지수</th>\n",
              "      <th>도체 중량</th>\n",
              "      <th>생산량</th>\n",
              "      <th>출생두수</th>\n",
              "      <th>사육비</th>\n",
              "      <th>당해 도매 가격</th>\n",
              "    </tr>\n",
              "  </thead>\n",
              "  <tbody>\n",
              "    <tr>\n",
              "      <th>0</th>\n",
              "      <td>571347</td>\n",
              "      <td>96045</td>\n",
              "      <td>839.000000</td>\n",
              "      <td>1370.0</td>\n",
              "      <td>102.0</td>\n",
              "      <td>99.77</td>\n",
              "      <td>99.74</td>\n",
              "      <td>413.051366</td>\n",
              "      <td>267</td>\n",
              "      <td>50325</td>\n",
              "      <td>6867510</td>\n",
              "      <td>14255</td>\n",
              "    </tr>\n",
              "    <tr>\n",
              "      <th>1</th>\n",
              "      <td>571347</td>\n",
              "      <td>96045</td>\n",
              "      <td>839.333333</td>\n",
              "      <td>1430.0</td>\n",
              "      <td>102.0</td>\n",
              "      <td>99.77</td>\n",
              "      <td>99.74</td>\n",
              "      <td>413.051366</td>\n",
              "      <td>267</td>\n",
              "      <td>50325</td>\n",
              "      <td>6867510</td>\n",
              "      <td>14158</td>\n",
              "    </tr>\n",
              "    <tr>\n",
              "      <th>2</th>\n",
              "      <td>571347</td>\n",
              "      <td>96045</td>\n",
              "      <td>839.666667</td>\n",
              "      <td>1490.0</td>\n",
              "      <td>102.0</td>\n",
              "      <td>99.77</td>\n",
              "      <td>99.74</td>\n",
              "      <td>413.051366</td>\n",
              "      <td>267</td>\n",
              "      <td>50325</td>\n",
              "      <td>6867510</td>\n",
              "      <td>14758</td>\n",
              "    </tr>\n",
              "    <tr>\n",
              "      <th>3</th>\n",
              "      <td>571347</td>\n",
              "      <td>96045</td>\n",
              "      <td>840.000000</td>\n",
              "      <td>1550.0</td>\n",
              "      <td>102.0</td>\n",
              "      <td>99.77</td>\n",
              "      <td>99.74</td>\n",
              "      <td>413.051366</td>\n",
              "      <td>267</td>\n",
              "      <td>50325</td>\n",
              "      <td>6867510</td>\n",
              "      <td>14838</td>\n",
              "    </tr>\n",
              "    <tr>\n",
              "      <th>4</th>\n",
              "      <td>571347</td>\n",
              "      <td>96045</td>\n",
              "      <td>852.000000</td>\n",
              "      <td>1555.0</td>\n",
              "      <td>102.0</td>\n",
              "      <td>99.77</td>\n",
              "      <td>99.74</td>\n",
              "      <td>413.051366</td>\n",
              "      <td>267</td>\n",
              "      <td>50325</td>\n",
              "      <td>6867510</td>\n",
              "      <td>14859</td>\n",
              "    </tr>\n",
              "  </tbody>\n",
              "</table>\n",
              "</div>"
            ],
            "text/plain": [
              "   가임암소 수   도축 수      암송아지가격  숫송아지가격  ...  생산량   출생두수      사육비  당해 도매 가격\n",
              "0  571347  96045  839.000000  1370.0  ...  267  50325  6867510     14255\n",
              "1  571347  96045  839.333333  1430.0  ...  267  50325  6867510     14158\n",
              "2  571347  96045  839.666667  1490.0  ...  267  50325  6867510     14758\n",
              "3  571347  96045  840.000000  1550.0  ...  267  50325  6867510     14838\n",
              "4  571347  96045  852.000000  1555.0  ...  267  50325  6867510     14859\n",
              "\n",
              "[5 rows x 12 columns]"
            ]
          },
          "metadata": {},
          "execution_count": 414
        }
      ]
    },
    {
      "cell_type": "code",
      "metadata": {
        "colab": {
          "base_uri": "https://localhost:8080/"
        },
        "id": "pIAy-Ny1XDp8",
        "outputId": "cea8c25a-dfba-4e1b-dbf9-f51b4a8a7119"
      },
      "source": [
        "# 정규화 0-1로 하기\n",
        "data_normalizer = preprocessing.MinMaxScaler() # 데이터를 0~1 범위로 점철되게 하는 함수 call\n",
        "data_normalized = data_normalizer.fit_transform(trainData) # 데이터를 0~1 범위로 점철되게 함수 수행\n",
        "next_month_price = data_normalized[:,-1]\n",
        "data_normalized.shape"
      ],
      "execution_count": null,
      "outputs": [
        {
          "output_type": "execute_result",
          "data": {
            "text/plain": [
              "(1235, 12)"
            ]
          },
          "metadata": {},
          "execution_count": 415
        }
      ]
    },
    {
      "cell_type": "code",
      "metadata": {
        "colab": {
          "base_uri": "https://localhost:8080/"
        },
        "id": "TkHGO2zrXKYB",
        "outputId": "efb00014-c060-4bae-84d8-79e8bb5d9be9"
      },
      "source": [
        "data_normalized[0]"
      ],
      "execution_count": null,
      "outputs": [
        {
          "output_type": "execute_result",
          "data": {
            "text/plain": [
              "array([0.        , 0.90674595, 0.        , 0.        , 0.46524064,\n",
              "       0.01010101, 0.10323959, 0.56561515, 1.        , 0.10628024,\n",
              "       0.        , 0.33008475])"
            ]
          },
          "metadata": {},
          "execution_count": 416
        }
      ]
    },
    {
      "cell_type": "code",
      "metadata": {
        "colab": {
          "base_uri": "https://localhost:8080/"
        },
        "id": "DM0hFp94d9sj",
        "outputId": "5f206cb6-378f-4c7e-c1a0-8d0ae67d3452"
      },
      "source": [
        "print(next_month_price.shape)\n",
        "next_month_price[0]"
      ],
      "execution_count": null,
      "outputs": [
        {
          "output_type": "stream",
          "name": "stdout",
          "text": [
            "(1235,)\n"
          ]
        },
        {
          "output_type": "execute_result",
          "data": {
            "text/plain": [
              "0.33008474576271185"
            ]
          },
          "metadata": {},
          "execution_count": 417
        }
      ]
    },
    {
      "cell_type": "code",
      "metadata": {
        "colab": {
          "base_uri": "https://localhost:8080/"
        },
        "id": "e3TNGLPrHoWh",
        "outputId": "9402d618-b05c-4957-e8ee-c28ee7be465b"
      },
      "source": [
        "# using the last {history_points} open close high low volume data points, predict the next open value\n",
        "history_points = 30  # 30일을 기준으로 바라본다\n",
        "trainData_normalized = np.array([data_normalized[i:i + history_points].copy() for i in range(len(data_normalized) - history_points)]) # trainData를 가지고 오되, 관찰일수 만큼 누적해서 쌓는다. (열방향으로)\n",
        "print('trainData_normalized : ', trainData_normalized.shape)"
      ],
      "execution_count": null,
      "outputs": [
        {
          "output_type": "stream",
          "name": "stdout",
          "text": [
            "trainData_normalized :  (1205, 30, 12)\n"
          ]
        }
      ]
    },
    {
      "cell_type": "code",
      "metadata": {
        "id": "V3fxI-MHojZG"
      },
      "source": [
        "import pandas as pd\n",
        "from sklearn import preprocessing\n",
        "import numpy as np"
      ],
      "execution_count": null,
      "outputs": []
    },
    {
      "cell_type": "code",
      "metadata": {
        "colab": {
          "base_uri": "https://localhost:8080/"
        },
        "id": "roxY52tH9g6T",
        "outputId": "bbbd3689-a08c-44fe-aa11-35d73a7c97f9"
      },
      "source": [
        "next_month_price_normalized = np.array([next_month_price[i:i + history_points].copy() for i in range(len(next_month_price) - history_points)])\n",
        "next_month_price_normalized = np.expand_dims(next_month_price_normalized, -1) # 1XN 벡터 -> NX1 벡터로\n",
        "print('next_month_price_normalized shape: ', next_month_price_normalized.shape)\n",
        "\n",
        "next_month_price_unNormalized = trainData['당해 도매 가격']\n",
        "print('next_month_price_unNormalized shape: ', next_month_price_unNormalized.shape)\n",
        "\n",
        "y_normalizer = preprocessing.MinMaxScaler()\n",
        "next_month_price_unNormalized_2 = np.expand_dims(next_month_price_unNormalized, -1) # 1XN 벡터 -> NX1 벡터로\n",
        "y_normalizer.fit(next_month_price_unNormalized_2)\n",
        "\n",
        "next_month_price_unNormalized = np.array([next_month_price_unNormalized[i:i + history_points].copy() for i in range(len(next_month_price_unNormalized) - history_points)])\n",
        "next_month_price_unNormalized = np.expand_dims(next_month_price_unNormalized, -1) # 1XN 벡터 -> NX1 벡터로\n",
        "print('next_month_price_unNormalized shape: ', next_month_price_unNormalized.shape)"
      ],
      "execution_count": null,
      "outputs": [
        {
          "output_type": "stream",
          "name": "stdout",
          "text": [
            "next_month_price_normalized shape:  (1205, 30, 1)\n",
            "next_month_price_unNormalized shape:  (1235,)\n",
            "next_month_price_unNormalized shape:  (1205, 30, 1)\n"
          ]
        }
      ]
    },
    {
      "cell_type": "code",
      "metadata": {
        "colab": {
          "base_uri": "https://localhost:8080/"
        },
        "id": "FveQkNV5G-HX",
        "outputId": "5b29cdae-7e34-4fb6-b1f2-082b32c3439a"
      },
      "source": [
        "next_month_price_unNormalized[0]"
      ],
      "execution_count": null,
      "outputs": [
        {
          "output_type": "execute_result",
          "data": {
            "text/plain": [
              "array([[14255],\n",
              "       [14158],\n",
              "       [14758],\n",
              "       [14838],\n",
              "       [14859],\n",
              "       [14644],\n",
              "       [14367],\n",
              "       [14565],\n",
              "       [14412],\n",
              "       [14180],\n",
              "       [13961],\n",
              "       [13525],\n",
              "       [13861],\n",
              "       [13866],\n",
              "       [13721],\n",
              "       [13590],\n",
              "       [13185],\n",
              "       [13561],\n",
              "       [13608],\n",
              "       [13547],\n",
              "       [13385],\n",
              "       [13285],\n",
              "       [13650],\n",
              "       [14076],\n",
              "       [14347],\n",
              "       [14415],\n",
              "       [14374],\n",
              "       [14789],\n",
              "       [14937],\n",
              "       [14761]])"
            ]
          },
          "metadata": {},
          "execution_count": 421
        }
      ]
    },
    {
      "cell_type": "code",
      "metadata": {
        "colab": {
          "base_uri": "https://localhost:8080/"
        },
        "id": "u-_Zo0DvKtMR",
        "outputId": "b4b30d2a-92ea-445f-c3d9-61b7a419b257"
      },
      "source": [
        "import tensorflow as tf\n",
        "import keras\n",
        "from keras.models import Model\n",
        "from keras.layers import Dense, Dropout, LSTM, Input, Activation\n",
        "from keras import optimizers\n",
        "import numpy as np\n",
        "np.random.seed(4)\n",
        "# from tensorflow import set_random_seed\n",
        "print(tf.__version__)\n",
        "tf.random.set_seed(44)\n",
        "# from util import csv_to_dataset, history_points\n",
        "\n",
        "# dataset\n",
        "\n",
        "#ohlcv_histories, _, next_day_open_values, unscaled_y, y_normaliser = call_dataset(ticker=ticker)\n",
        "\n",
        "train_ratio = 0.9\n",
        "n = int(trainData_normalized.shape[0] * train_ratio)\n",
        "\n",
        "trainData = trainData_normalized[-n:-1]\n",
        "y_train_real = next_month_price_unNormalized[-n:-1]\n",
        "y_train = next_month_price_normalized[-n:-1]\n",
        "\n",
        "validData = trainData_normalized[:trainData_normalized.shape[0]-n]\n",
        "y_valid_real = next_month_price_unNormalized[:trainData_normalized.shape[0]-n]\n",
        "y_valid = next_month_price_normalized[:trainData_normalized.shape[0]-n]\n",
        "\n",
        "unscaled_y_valid = next_month_price_unNormalized[:trainData_normalized.shape[0]-n]\n",
        "\n",
        "print('trainData.shape: ', trainData.shape)\n",
        "print('validData.shape: ',validData.shape)\n",
        "print('y_train_real.shape: ',y_train_real.shape)\n",
        "print('y_train.shape: ', y_train.shape)\n",
        "print('y_valid.shape: ',y_valid.shape)"
      ],
      "execution_count": null,
      "outputs": [
        {
          "output_type": "stream",
          "name": "stdout",
          "text": [
            "2.6.0\n",
            "trainData.shape:  (1083, 30, 12)\n",
            "validData.shape:  (121, 30, 12)\n",
            "y_train_real.shape:  (1083, 30, 1)\n",
            "y_train.shape:  (1083, 30, 1)\n",
            "y_valid.shape:  (121, 30, 1)\n"
          ]
        }
      ]
    },
    {
      "cell_type": "code",
      "metadata": {
        "colab": {
          "base_uri": "https://localhost:8080/"
        },
        "id": "AYRQQraiSmH_",
        "outputId": "ddaa0e08-269c-460c-a100-0362be04aae0"
      },
      "source": [
        "# model architecture\n",
        "lstm_input = Input(shape=(history_points, 12), name='lstm_input')\n",
        "x = LSTM(30, name='lstm_0')(lstm_input)\n",
        "x = Dropout(0.2, name='lstm_dropout_0')(x)\n",
        "# x = Dense(128, name='dense_0')(x)\n",
        "# x = Dropout(0.3, name='lstm_dropout_1')(x)\n",
        "x = Dense(64, name='dense_0')(x)\n",
        "x = Activation('sigmoid', name='sigmoid_0')(x)\n",
        "x = Dense(30, name='dense_1')(x)\n",
        "output = Activation('linear', name='linear_output')(x)\n",
        "\n",
        "model = Model(inputs=lstm_input, outputs=output)\n",
        "model.compile(optimizer=tf.keras.optimizers.Adam(0.0005), loss='mse')\n",
        "model.fit(x=trainData, y=y_train, batch_size=32, epochs=100)\n",
        "# evaluation\n",
        "\n",
        "y_valid_predicted = model.predict(validData)\n",
        "y_valid_predicted = y_normalizer.inverse_transform(y_valid_predicted)\n",
        "y_predicted = model.predict(trainData)\n",
        "y_predicted = y_normalizer.inverse_transform(y_predicted)\n",
        "\n",
        "print('y_valid_predict shape: ', y_valid_predicted.shape)\n",
        "print('y_predicted  shape: ', y_predicted .shape)\n",
        "\n",
        "# unscaled_y_valid = unscaled_y_valid.reshape(*unscaled_y_valid.shape[:-1])\n",
        "# y_valid = y_valid.reshape(*y_valid.shape[:-1])\n",
        "# print('unscaled_y_valid  shape: ', unscaled_y_valid .shape)\n",
        "# print('y_valid  shape: ', y_valid .shape)\n",
        "\n",
        "# 한달 뒤의 가격 예측인데 ... 어떻게 계산해야할까나?....\n",
        "# real_mse = np.mean(np.square(unscaled_y_valid - y_valid_predicted))\n",
        "# scaled_mse = real_mse / (np.max(unscaled_y_valid) - np.min(unscaled_y_valid)) * 100\n",
        "# print(scaled_mse)"
      ],
      "execution_count": null,
      "outputs": [
        {
          "output_type": "stream",
          "name": "stdout",
          "text": [
            "Epoch 1/100\n",
            "34/34 [==============================] - 2s 11ms/step - loss: 0.4512\n",
            "Epoch 2/100\n",
            "34/34 [==============================] - 0s 11ms/step - loss: 0.0917\n",
            "Epoch 3/100\n",
            "34/34 [==============================] - 0s 11ms/step - loss: 0.0222\n",
            "Epoch 4/100\n",
            "34/34 [==============================] - 0s 11ms/step - loss: 0.0177\n",
            "Epoch 5/100\n",
            "34/34 [==============================] - 0s 11ms/step - loss: 0.0173\n",
            "Epoch 6/100\n",
            "34/34 [==============================] - 0s 11ms/step - loss: 0.0168\n",
            "Epoch 7/100\n",
            "34/34 [==============================] - 0s 11ms/step - loss: 0.0165\n",
            "Epoch 8/100\n",
            "34/34 [==============================] - 0s 11ms/step - loss: 0.0163\n",
            "Epoch 9/100\n",
            "34/34 [==============================] - 0s 11ms/step - loss: 0.0158\n",
            "Epoch 10/100\n",
            "34/34 [==============================] - 0s 11ms/step - loss: 0.0154\n",
            "Epoch 11/100\n",
            "34/34 [==============================] - 0s 11ms/step - loss: 0.0154\n",
            "Epoch 12/100\n",
            "34/34 [==============================] - 0s 11ms/step - loss: 0.0150\n",
            "Epoch 13/100\n",
            "34/34 [==============================] - 0s 11ms/step - loss: 0.0150\n",
            "Epoch 14/100\n",
            "34/34 [==============================] - 0s 11ms/step - loss: 0.0146\n",
            "Epoch 15/100\n",
            "34/34 [==============================] - 0s 10ms/step - loss: 0.0142\n",
            "Epoch 16/100\n",
            "34/34 [==============================] - 0s 11ms/step - loss: 0.0138\n",
            "Epoch 17/100\n",
            "34/34 [==============================] - 0s 11ms/step - loss: 0.0130\n",
            "Epoch 18/100\n",
            "34/34 [==============================] - 0s 11ms/step - loss: 0.0122\n",
            "Epoch 19/100\n",
            "34/34 [==============================] - 0s 11ms/step - loss: 0.0118\n",
            "Epoch 20/100\n",
            "34/34 [==============================] - 0s 11ms/step - loss: 0.0113\n",
            "Epoch 21/100\n",
            "34/34 [==============================] - 0s 11ms/step - loss: 0.0109\n",
            "Epoch 22/100\n",
            "34/34 [==============================] - 0s 11ms/step - loss: 0.0104\n",
            "Epoch 23/100\n",
            "34/34 [==============================] - 0s 11ms/step - loss: 0.0096\n",
            "Epoch 24/100\n",
            "34/34 [==============================] - 0s 11ms/step - loss: 0.0090\n",
            "Epoch 25/100\n",
            "34/34 [==============================] - 0s 11ms/step - loss: 0.0087\n",
            "Epoch 26/100\n",
            "34/34 [==============================] - 0s 11ms/step - loss: 0.0086\n",
            "Epoch 27/100\n",
            "34/34 [==============================] - 0s 11ms/step - loss: 0.0084\n",
            "Epoch 28/100\n",
            "34/34 [==============================] - 0s 11ms/step - loss: 0.0082\n",
            "Epoch 29/100\n",
            "34/34 [==============================] - 0s 11ms/step - loss: 0.0080\n",
            "Epoch 30/100\n",
            "34/34 [==============================] - 0s 11ms/step - loss: 0.0080\n",
            "Epoch 31/100\n",
            "34/34 [==============================] - 0s 11ms/step - loss: 0.0079\n",
            "Epoch 32/100\n",
            "34/34 [==============================] - 0s 10ms/step - loss: 0.0078\n",
            "Epoch 33/100\n",
            "34/34 [==============================] - 0s 10ms/step - loss: 0.0076\n",
            "Epoch 34/100\n",
            "34/34 [==============================] - 0s 11ms/step - loss: 0.0076\n",
            "Epoch 35/100\n",
            "34/34 [==============================] - 0s 11ms/step - loss: 0.0076\n",
            "Epoch 36/100\n",
            "34/34 [==============================] - 0s 11ms/step - loss: 0.0075\n",
            "Epoch 37/100\n",
            "34/34 [==============================] - 0s 11ms/step - loss: 0.0075\n",
            "Epoch 38/100\n",
            "34/34 [==============================] - 0s 12ms/step - loss: 0.0073\n",
            "Epoch 39/100\n",
            "34/34 [==============================] - 0s 11ms/step - loss: 0.0073\n",
            "Epoch 40/100\n",
            "34/34 [==============================] - 0s 11ms/step - loss: 0.0073\n",
            "Epoch 41/100\n",
            "34/34 [==============================] - 0s 11ms/step - loss: 0.0072\n",
            "Epoch 42/100\n",
            "34/34 [==============================] - 0s 11ms/step - loss: 0.0073\n",
            "Epoch 43/100\n",
            "34/34 [==============================] - 0s 11ms/step - loss: 0.0072\n",
            "Epoch 44/100\n",
            "34/34 [==============================] - 0s 11ms/step - loss: 0.0071\n",
            "Epoch 45/100\n",
            "34/34 [==============================] - 0s 11ms/step - loss: 0.0071\n",
            "Epoch 46/100\n",
            "34/34 [==============================] - 0s 11ms/step - loss: 0.0071\n",
            "Epoch 47/100\n",
            "34/34 [==============================] - 0s 11ms/step - loss: 0.0070\n",
            "Epoch 48/100\n",
            "34/34 [==============================] - 0s 11ms/step - loss: 0.0070\n",
            "Epoch 49/100\n",
            "34/34 [==============================] - 0s 11ms/step - loss: 0.0070\n",
            "Epoch 50/100\n",
            "34/34 [==============================] - 0s 11ms/step - loss: 0.0070\n",
            "Epoch 51/100\n",
            "34/34 [==============================] - 0s 11ms/step - loss: 0.0069\n",
            "Epoch 52/100\n",
            "34/34 [==============================] - 0s 12ms/step - loss: 0.0069\n",
            "Epoch 53/100\n",
            "34/34 [==============================] - 0s 11ms/step - loss: 0.0069\n",
            "Epoch 54/100\n",
            "34/34 [==============================] - 0s 11ms/step - loss: 0.0069\n",
            "Epoch 55/100\n",
            "34/34 [==============================] - 0s 11ms/step - loss: 0.0069\n",
            "Epoch 56/100\n",
            "34/34 [==============================] - 0s 11ms/step - loss: 0.0069\n",
            "Epoch 57/100\n",
            "34/34 [==============================] - 0s 11ms/step - loss: 0.0069\n",
            "Epoch 58/100\n",
            "34/34 [==============================] - 0s 11ms/step - loss: 0.0068\n",
            "Epoch 59/100\n",
            "34/34 [==============================] - 0s 11ms/step - loss: 0.0068\n",
            "Epoch 60/100\n",
            "34/34 [==============================] - 0s 10ms/step - loss: 0.0068\n",
            "Epoch 61/100\n",
            "34/34 [==============================] - 0s 11ms/step - loss: 0.0068\n",
            "Epoch 62/100\n",
            "34/34 [==============================] - 0s 11ms/step - loss: 0.0068\n",
            "Epoch 63/100\n",
            "34/34 [==============================] - 0s 11ms/step - loss: 0.0067\n",
            "Epoch 64/100\n",
            "34/34 [==============================] - 0s 11ms/step - loss: 0.0067\n",
            "Epoch 65/100\n",
            "34/34 [==============================] - 0s 11ms/step - loss: 0.0067\n",
            "Epoch 66/100\n",
            "34/34 [==============================] - 0s 11ms/step - loss: 0.0067\n",
            "Epoch 67/100\n",
            "34/34 [==============================] - 0s 10ms/step - loss: 0.0067\n",
            "Epoch 68/100\n",
            "34/34 [==============================] - 0s 11ms/step - loss: 0.0067\n",
            "Epoch 69/100\n",
            "34/34 [==============================] - 0s 11ms/step - loss: 0.0067\n",
            "Epoch 70/100\n",
            "34/34 [==============================] - 0s 11ms/step - loss: 0.0066\n",
            "Epoch 71/100\n",
            "34/34 [==============================] - 0s 10ms/step - loss: 0.0066\n",
            "Epoch 72/100\n",
            "34/34 [==============================] - 0s 11ms/step - loss: 0.0066\n",
            "Epoch 73/100\n",
            "34/34 [==============================] - 0s 11ms/step - loss: 0.0066\n",
            "Epoch 74/100\n",
            "34/34 [==============================] - 0s 11ms/step - loss: 0.0066\n",
            "Epoch 75/100\n",
            "34/34 [==============================] - 0s 11ms/step - loss: 0.0066\n",
            "Epoch 76/100\n",
            "34/34 [==============================] - 0s 11ms/step - loss: 0.0066\n",
            "Epoch 77/100\n",
            "34/34 [==============================] - 0s 11ms/step - loss: 0.0066\n",
            "Epoch 78/100\n",
            "34/34 [==============================] - 0s 11ms/step - loss: 0.0066\n",
            "Epoch 79/100\n",
            "34/34 [==============================] - 0s 11ms/step - loss: 0.0066\n",
            "Epoch 80/100\n",
            "34/34 [==============================] - 0s 11ms/step - loss: 0.0065\n",
            "Epoch 81/100\n",
            "34/34 [==============================] - 0s 11ms/step - loss: 0.0065\n",
            "Epoch 82/100\n",
            "34/34 [==============================] - 0s 11ms/step - loss: 0.0065\n",
            "Epoch 83/100\n",
            "34/34 [==============================] - 0s 11ms/step - loss: 0.0065\n",
            "Epoch 84/100\n",
            "34/34 [==============================] - 0s 11ms/step - loss: 0.0065\n",
            "Epoch 85/100\n",
            "34/34 [==============================] - 0s 11ms/step - loss: 0.0065\n",
            "Epoch 86/100\n",
            "34/34 [==============================] - 0s 11ms/step - loss: 0.0064\n",
            "Epoch 87/100\n",
            "34/34 [==============================] - 0s 11ms/step - loss: 0.0064\n",
            "Epoch 88/100\n",
            "34/34 [==============================] - 0s 11ms/step - loss: 0.0065\n",
            "Epoch 89/100\n",
            "34/34 [==============================] - 0s 11ms/step - loss: 0.0064\n",
            "Epoch 90/100\n",
            "34/34 [==============================] - 0s 11ms/step - loss: 0.0064\n",
            "Epoch 91/100\n",
            "34/34 [==============================] - 0s 11ms/step - loss: 0.0064\n",
            "Epoch 92/100\n",
            "34/34 [==============================] - 0s 11ms/step - loss: 0.0064\n",
            "Epoch 93/100\n",
            "34/34 [==============================] - 0s 11ms/step - loss: 0.0064\n",
            "Epoch 94/100\n",
            "34/34 [==============================] - 0s 11ms/step - loss: 0.0064\n",
            "Epoch 95/100\n",
            "34/34 [==============================] - 0s 11ms/step - loss: 0.0063\n",
            "Epoch 96/100\n",
            "34/34 [==============================] - 0s 11ms/step - loss: 0.0063\n",
            "Epoch 97/100\n",
            "34/34 [==============================] - 0s 11ms/step - loss: 0.0063\n",
            "Epoch 98/100\n",
            "34/34 [==============================] - 0s 11ms/step - loss: 0.0063\n",
            "Epoch 99/100\n",
            "34/34 [==============================] - 0s 11ms/step - loss: 0.0063\n",
            "Epoch 100/100\n",
            "34/34 [==============================] - 0s 11ms/step - loss: 0.0063\n",
            "y_valid_predict shape:  (121, 30)\n",
            "y_predicted  shape:  (1083, 30)\n"
          ]
        }
      ]
    },
    {
      "cell_type": "code",
      "metadata": {
        "id": "wTvUhmgj8vom",
        "colab": {
          "base_uri": "https://localhost:8080/"
        },
        "outputId": "5a1d41c2-cb48-4ccc-a344-e846c7c24511"
      },
      "source": [
        "y_valid.min()"
      ],
      "execution_count": null,
      "outputs": [
        {
          "output_type": "execute_result",
          "data": {
            "text/plain": [
              "0.0"
            ]
          },
          "metadata": {},
          "execution_count": 424
        }
      ]
    },
    {
      "cell_type": "code",
      "metadata": {
        "id": "0N0CnveG9Gn-",
        "colab": {
          "base_uri": "https://localhost:8080/"
        },
        "outputId": "8bbf3be4-a087-404d-9dad-e67d98c87e2d"
      },
      "source": [
        "y_valid_predicted.min()"
      ],
      "execution_count": null,
      "outputs": [
        {
          "output_type": "execute_result",
          "data": {
            "text/plain": [
              "15348.064"
            ]
          },
          "metadata": {},
          "execution_count": 425
        }
      ]
    },
    {
      "cell_type": "code",
      "metadata": {
        "id": "03ztmIshLmHz",
        "colab": {
          "base_uri": "https://localhost:8080/"
        },
        "outputId": "40873127-1f53-42ec-b83f-9995452204b2"
      },
      "source": [
        "# # 1년치 데이터를 그래프로 그리기 위해 flatten\n",
        "y_valid_real = y_valid_real.flatten()\n",
        "y_valid_predicted = y_valid_predicted.flatten()\n",
        "\n",
        "print(y_valid_real.shape[0] // 30)\n",
        "\n",
        "draw_real_valid = []\n",
        "draw_pred_valid = []\n",
        "\n",
        "# # 30일 단위로 예측을 했으므로 30일 간격을 가진 채로 이어붙이기\n",
        "idx = 0\n",
        "while idx < y_valid_real.shape[0]:\n",
        "  draw_real_valid.append(y_valid_real[idx])\n",
        "  draw_pred_valid.append(y_valid_predicted[idx])\n",
        "  idx += 30\n",
        "\n",
        "# draw_real_valid[0:60]\n"
      ],
      "execution_count": null,
      "outputs": [
        {
          "output_type": "stream",
          "name": "stdout",
          "text": [
            "121\n"
          ]
        }
      ]
    },
    {
      "cell_type": "code",
      "metadata": {
        "colab": {
          "base_uri": "https://localhost:8080/"
        },
        "id": "qhM9bLGNE5LW",
        "outputId": "72963124-dad9-4e48-e3fb-2404111ceae3"
      },
      "source": [
        "# # 1년치 데이터를 그래프로 그리기 위해 flatten\n",
        "y_train_real = y_train_real.flatten()\n",
        "y_predicted = y_predicted.flatten()\n",
        "\n",
        "print(y_train_real.shape[0] // 30)\n",
        "\n",
        "draw_real = []\n",
        "draw_pred = []\n",
        "\n",
        "# # 30일 단위로 예측을 했으므로 30일 간격을 가진 채로 이어붙이기\n",
        "idx = 0\n",
        "while idx < y_train_real.shape[0]:\n",
        "  draw_real.append(y_train_real[idx])\n",
        "  draw_pred.append(y_predicted[idx])\n",
        "  idx += 30\n",
        "\n",
        "# draw_real_valid[0:60]"
      ],
      "execution_count": null,
      "outputs": [
        {
          "output_type": "stream",
          "name": "stdout",
          "text": [
            "1083\n"
          ]
        }
      ]
    },
    {
      "cell_type": "code",
      "metadata": {
        "id": "rtUjJUH2iAxT",
        "colab": {
          "base_uri": "https://localhost:8080/"
        },
        "outputId": "fc38175e-558b-446f-a08e-abf330f8bdc1"
      },
      "source": [
        "print(len(draw_pred))"
      ],
      "execution_count": null,
      "outputs": [
        {
          "output_type": "stream",
          "name": "stdout",
          "text": [
            "1083\n"
          ]
        }
      ]
    },
    {
      "cell_type": "code",
      "metadata": {
        "id": "LD_Mj9c3L-2B",
        "colab": {
          "base_uri": "https://localhost:8080/",
          "height": 607
        },
        "outputId": "f828b1e8-2afa-4a41-bfe4-c92a616b0262"
      },
      "source": [
        "import matplotlib.pyplot as plt\n",
        "\n",
        "plt.gcf().set_size_inches(15, 10, forward=True)\n",
        "\n",
        "start = 0\n",
        "end = -1\n",
        "\n",
        "real = plt.plot(draw_real[start:800], label='real')\n",
        "pred = plt.plot(draw_pred[start:800], label='predicted')\n",
        "\n",
        "plt.legend(['Real', 'Predicted'])\n",
        "plt.title('LSTM_Train')\n",
        "plt.show()"
      ],
      "execution_count": null,
      "outputs": [
        {
          "output_type": "display_data",
          "data": {
            "image/png": "[encoded data removed]",
            "text/plain": [
              "<Figure size 1080x720 with 1 Axes>"
            ]
          },
          "metadata": {
            "needs_background": "light"
          }
        }
      ]
    },
    {
      "cell_type": "code",
      "metadata": {
        "id": "sTn1c-05nBmh",
        "colab": {
          "base_uri": "https://localhost:8080/",
          "height": 607
        },
        "outputId": "55d86e84-d10e-4ea1-b3df-ae67bc2abdb6"
      },
      "source": [
        "# 1년치 데이터를 그래프로 그리기 위해 flatten\n",
        "# draw_real_valid = y_valid_real.flatten()\n",
        "# draw_pred_valid = y_valid_predicted.flatten()\n",
        "\n",
        "import matplotlib.pyplot as plt\n",
        "\n",
        "plt.gcf().set_size_inches(15, 10, forward=True)\n",
        "\n",
        "start = 0\n",
        "end = -1\n",
        "\n",
        "real = plt.plot(draw_real_valid[start:120], label='real')\n",
        "pred = plt.plot(draw_pred_valid[start:120], label='predicted')\n",
        "\n",
        "plt.legend(['Real', 'Predicted'])\n",
        "plt.title('LSTM_Valid')\n",
        "plt.show()"
      ],
      "execution_count": null,
      "outputs": [
        {
          "output_type": "display_data",
          "data": {
            "image/png": "[encoded data removed]",
            "text/plain": [
              "<Figure size 1080x720 with 1 Axes>"
            ]
          },
          "metadata": {
            "needs_background": "light"
          }
        }
      ]
    },
    {
      "cell_type": "code",
      "metadata": {
        "id": "f0tA8XcWuCXR",
        "colab": {
          "base_uri": "https://localhost:8080/"
        },
        "outputId": "a5175f23-6b2c-4576-a34f-ee7063ece7f7"
      },
      "source": [
        "# real data\n",
        "draw_real[1]"
      ],
      "execution_count": null,
      "outputs": [
        {
          "output_type": "execute_result",
          "data": {
            "text/plain": [
              "16288"
            ]
          },
          "metadata": {},
          "execution_count": 431
        }
      ]
    },
    {
      "cell_type": "code",
      "metadata": {
        "id": "HOHAzWM1IzDt",
        "colab": {
          "base_uri": "https://localhost:8080/"
        },
        "outputId": "fdbfb81b-ac34-4582-ff45-7cc8df8be5bc"
      },
      "source": [
        "# predict data\n",
        "draw_pred[0]"
      ],
      "execution_count": null,
      "outputs": [
        {
          "output_type": "execute_result",
          "data": {
            "text/plain": [
              "16629.191"
            ]
          },
          "metadata": {},
          "execution_count": 432
        }
      ]
    },
    {
      "cell_type": "code",
      "metadata": {
        "id": "Y1dnQe6eI3yT",
        "colab": {
          "base_uri": "https://localhost:8080/"
        },
        "outputId": "890e0427-7aea-4f55-96eb-04d655339733"
      },
      "source": [
        "print('-------------Train-------------')\n",
        "for i in range(30):\n",
        "  print('실제 가격 : ' , draw_real[i], end=\"\")\n",
        "  print(' / 예측 가격 : ', draw_pred[i])"
      ],
      "execution_count": null,
      "outputs": [
        {
          "output_type": "stream",
          "name": "stdout",
          "text": [
            "-------------Train-------------\n",
            "실제 가격 :  16197 / 예측 가격 :  16629.191\n",
            "실제 가격 :  16288 / 예측 가격 :  16684.938\n",
            "실제 가격 :  16394 / 예측 가격 :  16726.578\n",
            "실제 가격 :  16369 / 예측 가격 :  16770.137\n",
            "실제 가격 :  16539 / 예측 가격 :  16814.066\n",
            "실제 가격 :  16905 / 예측 가격 :  16865.092\n",
            "실제 가격 :  17051 / 예측 가격 :  16910.176\n",
            "실제 가격 :  16882 / 예측 가격 :  16953.604\n",
            "실제 가격 :  16677 / 예측 가격 :  17007.332\n",
            "실제 가격 :  16730 / 예측 가격 :  17077.838\n",
            "실제 가격 :  17322 / 예측 가격 :  17156.324\n",
            "실제 가격 :  17315 / 예측 가격 :  17212.904\n",
            "실제 가격 :  17183 / 예측 가격 :  17273.88\n",
            "실제 가격 :  16861 / 예측 가격 :  17344.42\n",
            "실제 가격 :  17216 / 예측 가격 :  17437.805\n",
            "실제 가격 :  17386 / 예측 가격 :  17516.443\n",
            "실제 가격 :  17393 / 예측 가격 :  17599.19\n",
            "실제 가격 :  17484 / 예측 가격 :  17688.342\n",
            "실제 가격 :  17476 / 예측 가격 :  17770.148\n",
            "실제 가격 :  17118 / 예측 가격 :  17846.36\n",
            "실제 가격 :  17773 / 예측 가격 :  17946.086\n",
            "실제 가격 :  17764 / 예측 가격 :  17997.2\n",
            "실제 가격 :  17593 / 예측 가격 :  18045.443\n",
            "실제 가격 :  17337 / 예측 가격 :  18102.713\n",
            "실제 가격 :  17738 / 예측 가격 :  18170.025\n",
            "실제 가격 :  17993 / 예측 가격 :  18219.123\n",
            "실제 가격 :  17969 / 예측 가격 :  18251.367\n",
            "실제 가격 :  18027 / 예측 가격 :  18283.764\n",
            "실제 가격 :  18277 / 예측 가격 :  18308.055\n",
            "실제 가격 :  18084 / 예측 가격 :  18318.125\n"
          ]
        }
      ]
    },
    {
      "cell_type": "code",
      "metadata": {
        "id": "M5URLEq-l2L5",
        "colab": {
          "base_uri": "https://localhost:8080/"
        },
        "outputId": "f26c5453-5c3c-483d-d21f-80d1f4450ccc"
      },
      "source": [
        "print('-------------Train-------------')\n",
        "for i in range(30):\n",
        "  print('실제 가격 - 예측 가격 : ', draw_real[i] - draw_pred[i])"
      ],
      "execution_count": null,
      "outputs": [
        {
          "output_type": "stream",
          "name": "stdout",
          "text": [
            "-------------Train-------------\n",
            "실제 가격 - 예측 가격 :  -432.19140625\n",
            "실제 가격 - 예측 가격 :  -396.9375\n",
            "실제 가격 - 예측 가격 :  -332.578125\n",
            "실제 가격 - 예측 가격 :  -401.13671875\n",
            "실제 가격 - 예측 가격 :  -275.06640625\n",
            "실제 가격 - 예측 가격 :  39.908203125\n",
            "실제 가격 - 예측 가격 :  140.82421875\n",
            "실제 가격 - 예측 가격 :  -71.603515625\n",
            "실제 가격 - 예측 가격 :  -330.33203125\n",
            "실제 가격 - 예측 가격 :  -347.837890625\n",
            "실제 가격 - 예측 가격 :  165.67578125\n",
            "실제 가격 - 예측 가격 :  102.095703125\n",
            "실제 가격 - 예측 가격 :  -90.880859375\n",
            "실제 가격 - 예측 가격 :  -483.419921875\n",
            "실제 가격 - 예측 가격 :  -221.8046875\n",
            "실제 가격 - 예측 가격 :  -130.443359375\n",
            "실제 가격 - 예측 가격 :  -206.189453125\n",
            "실제 가격 - 예측 가격 :  -204.341796875\n",
            "실제 가격 - 예측 가격 :  -294.1484375\n",
            "실제 가격 - 예측 가격 :  -728.359375\n",
            "실제 가격 - 예측 가격 :  -173.0859375\n",
            "실제 가격 - 예측 가격 :  -233.19921875\n",
            "실제 가격 - 예측 가격 :  -452.443359375\n",
            "실제 가격 - 예측 가격 :  -765.712890625\n",
            "실제 가격 - 예측 가격 :  -432.025390625\n",
            "실제 가격 - 예측 가격 :  -226.123046875\n",
            "실제 가격 - 예측 가격 :  -282.3671875\n",
            "실제 가격 - 예측 가격 :  -256.763671875\n",
            "실제 가격 - 예측 가격 :  -31.0546875\n",
            "실제 가격 - 예측 가격 :  -234.125\n"
          ]
        }
      ]
    },
    {
      "cell_type": "code",
      "metadata": {
        "id": "tH-YxsPOmQE7",
        "colab": {
          "base_uri": "https://localhost:8080/"
        },
        "outputId": "f54edfee-045a-42cd-e04b-62652ec08285"
      },
      "source": [
        "print('-------------Test-------------')\n",
        "for i in range(30):\n",
        "  print('실제 가격 : ' , draw_real_valid[i], end=\"\")\n",
        "  print(' / 예측 가격 : ', draw_pred_valid[i])"
      ],
      "execution_count": null,
      "outputs": [
        {
          "output_type": "stream",
          "name": "stdout",
          "text": [
            "-------------Test-------------\n",
            "실제 가격 :  14255 / 예측 가격 :  16005.464\n",
            "실제 가격 :  14158 / 예측 가격 :  16016.78\n",
            "실제 가격 :  14758 / 예측 가격 :  16027.132\n",
            "실제 가격 :  14838 / 예측 가격 :  16034.162\n",
            "실제 가격 :  14859 / 예측 가격 :  16040.861\n",
            "실제 가격 :  14644 / 예측 가격 :  16032.224\n",
            "실제 가격 :  14367 / 예측 가격 :  16033.3545\n",
            "실제 가격 :  14565 / 예측 가격 :  16035.619\n",
            "실제 가격 :  14412 / 예측 가격 :  16037.19\n",
            "실제 가격 :  14180 / 예측 가격 :  16070.616\n",
            "실제 가격 :  13961 / 예측 가격 :  16085.381\n",
            "실제 가격 :  13525 / 예측 가격 :  16101.986\n",
            "실제 가격 :  13861 / 예측 가격 :  16118.52\n",
            "실제 가격 :  13866 / 예측 가격 :  16132.611\n",
            "실제 가격 :  13721 / 예측 가격 :  16146.6455\n",
            "실제 가격 :  13590 / 예측 가격 :  16158.477\n",
            "실제 가격 :  13185 / 예측 가격 :  16170.543\n",
            "실제 가격 :  13561 / 예측 가격 :  16181.622\n",
            "실제 가격 :  13608 / 예측 가격 :  16192.127\n",
            "실제 가격 :  13547 / 예측 가격 :  16200.071\n",
            "실제 가격 :  13385 / 예측 가격 :  16206.934\n",
            "실제 가격 :  13285 / 예측 가격 :  16214.31\n",
            "실제 가격 :  13650 / 예측 가격 :  16220.009\n",
            "실제 가격 :  14076 / 예측 가격 :  16226.452\n",
            "실제 가격 :  14347 / 예측 가격 :  16227.047\n",
            "실제 가격 :  14415 / 예측 가격 :  16225.619\n",
            "실제 가격 :  14374 / 예측 가격 :  16223.877\n",
            "실제 가격 :  14789 / 예측 가격 :  16224.393\n",
            "실제 가격 :  14937 / 예측 가격 :  16223.416\n",
            "실제 가격 :  14761 / 예측 가격 :  16220.735\n"
          ]
        }
      ]
    },
    {
      "cell_type": "code",
      "metadata": {
        "id": "8vYkgRJYpGFB",
        "colab": {
          "base_uri": "https://localhost:8080/"
        },
        "outputId": "0d34eecf-f5b6-491d-c1ca-04b7afbf73b7"
      },
      "source": [
        "print('-------------Test-------------')\n",
        "for i in range(30):\n",
        "  print('실제 가격 - 예측 가격 : ', draw_real_valid[i] - draw_pred_valid[i])"
      ],
      "execution_count": null,
      "outputs": [
        {
          "output_type": "stream",
          "name": "stdout",
          "text": [
            "-------------Test-------------\n",
            "실제 가격 - 예측 가격 :  -1750.4638671875\n",
            "실제 가격 - 예측 가격 :  -1858.7802734375\n",
            "실제 가격 - 예측 가격 :  -1269.1318359375\n",
            "실제 가격 - 예측 가격 :  -1196.162109375\n",
            "실제 가격 - 예측 가격 :  -1181.861328125\n",
            "실제 가격 - 예측 가격 :  -1388.2236328125\n",
            "실제 가격 - 예측 가격 :  -1666.3544921875\n",
            "실제 가격 - 예측 가격 :  -1470.619140625\n",
            "실제 가격 - 예측 가격 :  -1625.1904296875\n",
            "실제 가격 - 예측 가격 :  -1890.6162109375\n",
            "실제 가격 - 예측 가격 :  -2124.380859375\n",
            "실제 가격 - 예측 가격 :  -2576.986328125\n",
            "실제 가격 - 예측 가격 :  -2257.51953125\n",
            "실제 가격 - 예측 가격 :  -2266.611328125\n",
            "실제 가격 - 예측 가격 :  -2425.6455078125\n",
            "실제 가격 - 예측 가격 :  -2568.4765625\n",
            "실제 가격 - 예측 가격 :  -2985.54296875\n",
            "실제 가격 - 예측 가격 :  -2620.6220703125\n",
            "실제 가격 - 예측 가격 :  -2584.126953125\n",
            "실제 가격 - 예측 가격 :  -2653.0712890625\n",
            "실제 가격 - 예측 가격 :  -2821.93359375\n",
            "실제 가격 - 예측 가격 :  -2929.3095703125\n",
            "실제 가격 - 예측 가격 :  -2570.0087890625\n",
            "실제 가격 - 예측 가격 :  -2150.4521484375\n",
            "실제 가격 - 예측 가격 :  -1880.046875\n",
            "실제 가격 - 예측 가격 :  -1810.619140625\n",
            "실제 가격 - 예측 가격 :  -1849.876953125\n",
            "실제 가격 - 예측 가격 :  -1435.392578125\n",
            "실제 가격 - 예측 가격 :  -1286.416015625\n",
            "실제 가격 - 예측 가격 :  -1459.7353515625\n"
          ]
        }
      ]
    },
    {
      "cell_type": "code",
      "metadata": {
        "id": "pIPy729RpbRn"
      },
      "source": [
        ""
      ],
      "execution_count": null,
      "outputs": []
    }
  ]
}